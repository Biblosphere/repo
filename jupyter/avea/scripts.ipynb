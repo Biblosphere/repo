{
 "cells": [
  {
   "cell_type": "markdown",
   "id": "a3eff4c1",
   "metadata": {},
   "source": [
    "#### Copy baseline recognition statistics from firestore to BigQuery"
   ]
  },
  {
   "cell_type": "code",
   "execution_count": 1,
   "id": "19b7f160",
   "metadata": {},
   "outputs": [],
   "source": [
    "import datetime"
   ]
  },
  {
   "cell_type": "code",
   "execution_count": 6,
   "id": "734fca2b",
   "metadata": {},
   "outputs": [
    {
     "data": {
      "text/plain": "<firebase_admin.App at 0x272b8a09820>"
     },
     "execution_count": 6,
     "metadata": {},
     "output_type": "execute_result"
    }
   ],
   "source": [
    "import firebase_admin\n",
    "from firebase_admin import credentials\n",
    "from firebase_admin import firestore\n",
    "from firebase_admin import db\n",
    "\n",
    "cred = credentials.Certificate(r\"C:\\!Dev\\projects\\book_detection\\keys\\avea-biblosphere-210106-firebase-adminsdk-s3bjc-ff2c6ac275 (1).json\")\n",
    "firebase_admin.initialize_app(cred)"
   ]
  },
  {
   "cell_type": "code",
   "execution_count": 7,
   "id": "f70083b6",
   "metadata": {},
   "outputs": [],
   "source": [
    "#firestore\n",
    "db = firestore.client()"
   ]
  },
  {
   "cell_type": "code",
   "execution_count": 33,
   "id": "f45d0ed8",
   "metadata": {},
   "outputs": [],
   "source": [
    "#bigquery\n",
    "from google.oauth2 import service_account\n",
    "from google.cloud import bigquery\n",
    "\n",
    "project_id = 'biblosphere-210106'\n",
    "credentials = service_account.Credentials.from_service_account_file('./keys/biblosphere-210106-46dbcd9058f7.json')\n",
    "\n",
    "bq_client = bigquery.Client(credentials= credentials,project=project_id)"
   ]
  },
  {
   "cell_type": "code",
   "execution_count": 68,
   "id": "2cf1aca8",
   "metadata": {},
   "outputs": [
    {
     "name": "stdout",
     "output_type": "stream",
     "text": [
      "Created table biblosphere-210106.biblosphere.recognition_stats\n"
     ]
    }
   ],
   "source": [
    "#create table\n",
    "from google.cloud import bigquery\n",
    "\n",
    "#client = bigquery.Client()\n",
    "\n",
    "table_id = \"biblosphere-210106.biblosphere.recognition_stats\"\n",
    "\n",
    "schema = [\n",
    "    bigquery.SchemaField(\"timestamp\", \"NUMERIC\", mode=\"REQUIRED\"),\n",
    "    bigquery.SchemaField(\"date\", \"DATETIME\", mode=\"REQUIRED\"),\n",
    "    bigquery.SchemaField(\"photo_id\", \"STRING\", mode=\"REQUIRED\"),\n",
    "    bigquery.SchemaField(\"algorithm\", \"STRING\", mode=\"REQUIRED\"),\n",
    "    bigquery.SchemaField(\"known_books\", \"INTEGER\", mode=\"NULLABLE\"),\n",
    "    bigquery.SchemaField(\"duration_microsec\", \"INTEGER\", mode=\"NULLABLE\"),\n",
    "    bigquery.SchemaField(\"recognized_books\", \"INTEGER\", mode=\"NULLABLE\"),\n",
    "    bigquery.SchemaField(\"total_finded_books\", \"INTEGER\", mode=\"NULLABLE\"),\n",
    "    bigquery.SchemaField(\"detectron_finded_books\", \"INTEGER\", mode=\"NULLABLE\"),\n",
    "    bigquery.SchemaField(\"photo_url\", \"STRING\", mode=\"NULLABLE\"),\n",
    "    bigquery.SchemaField(\"added\", \"DATETIME\", mode=\"REQUIRED\"),\n",
    "]\n",
    "\n",
    "table = bigquery.Table(table_id, schema=schema)\n",
    "table = bq_client.create_table(table)  \n",
    "print(\n",
    "    \"Created table {}.{}.{}\".format(table.project, table.dataset_id, table.table_id)\n",
    ")"
   ]
  },
  {
   "cell_type": "code",
   "execution_count": 70,
   "id": "d27e3e77",
   "metadata": {},
   "outputs": [],
   "source": [
    "def insert_photo_to_bigquery(doc, table_id):\n",
    "    data = doc.to_dict()\n",
    "    \n",
    "    today_date = datetime.datetime(2021, 9, 10)\n",
    "    today_timestamp = today_date.timestamp()\n",
    "    algoritm = \"Denis's baseline algorithm (not ml)\"\n",
    "    known_books = None\n",
    "    \n",
    "    record = [{u'timestamp': today_timestamp,\n",
    "              u'date': today_date.isoformat(),\n",
    "              u'photo_id': doc.id,\n",
    "              u'algorithm': algoritm,\n",
    "              u'known_books': known_books,\n",
    "              u'duration_microsec': None,\n",
    "              u'recognized_books': data['recognized'] if 'recognized' in data else 0,\n",
    "              u'total_finded_books': data['total'] if 'total' in data else 0,\n",
    "              u'detectron_finded_books': None,\n",
    "              u'photo_url': data['thumbnail'] if 'thumbnail' in data else None,\n",
    "              u'added': datetime.datetime.today().isoformat(),\n",
    "    }]\n",
    "    #print(record)\n",
    "    #print(data['thumbnail'])\n",
    "    #print()\n",
    "    \n",
    "    errors = bq_client.insert_rows_json(table_id, record)  # Make an API request.\n",
    "    if errors != []:\n",
    "        print(\"Encountered errors while inserting rows (photo_id: {}): {}\".format(doc.id, errors))\n",
    "    \n",
    "    "
   ]
  },
  {
   "cell_type": "code",
   "execution_count": 71,
   "id": "a5721942",
   "metadata": {},
   "outputs": [
    {
     "name": "stdout",
     "output_type": "stream",
     "text": [
      "inserted: 1275\n"
     ]
    }
   ],
   "source": [
    "#insert from firestore\n",
    "\n",
    "table_id = \"biblosphere-210106.biblosphere.recognition_stats\"    \n",
    "docs = db.collection('photos').stream()\n",
    "examples = 9999\n",
    "\n",
    "count = 0\n",
    "for doc in docs:\n",
    "    if count == examples:\n",
    "        break\n",
    "    insert_photo_to_bigquery(doc, table_id)\n",
    "    count += 1\n",
    "    #print('inserted:', count, doc.id)\n",
    "    \n",
    "print('inserted:', count)"
   ]
  },
  {
   "cell_type": "code",
   "execution_count": 65,
   "id": "e33aae89",
   "metadata": {},
   "outputs": [],
   "source": [
    "def photo_in_bigquery(photo_id):\n",
    "    query = f\"SELECT photo_id FROM `biblosphere-210106.biblosphere.recognition_stats` where photo_id = '{photo_id}' \"    \n",
    "    query_job = bq_client.query(query)\n",
    "    results = list(query_job.result())\n",
    "    return len(results) != 0"
   ]
  },
  {
   "cell_type": "code",
   "execution_count": null,
   "id": "ba5f97f2",
   "metadata": {},
   "outputs": [],
   "source": [
    "# inserted missed rows\n",
    "\n",
    "table_id = \"biblosphere-210106.biblosphere.recognition_stats\"    \n",
    "docs = db.collection('photos').stream()\n",
    "examples = 9999\n",
    "\n",
    "count = 0\n",
    "for doc in docs:\n",
    "    if count == examples:\n",
    "        break\n",
    "    if not photo_in_bigquery(doc.id):\n",
    "        insert_photo_to_bigquery(doc, table_id)\n",
    "    \n",
    "    count += 1\n",
    "    if count % 10 == 0:\n",
    "        print(count)\n",
    "    #print('inserted:', count, doc.id)"
   ]
  },
  {
   "cell_type": "code",
   "execution_count": null,
   "id": "b7eaeaa1",
   "metadata": {},
   "outputs": [],
   "source": []
  },
  {
   "cell_type": "markdown",
   "id": "eff37498",
   "metadata": {},
   "source": [
    "#### Check records in firestore, which not is inserted into BigQuery"
   ]
  },
  {
   "cell_type": "code",
   "execution_count": 22,
   "id": "172fc0ce",
   "metadata": {},
   "outputs": [
    {
     "name": "stdout",
     "output_type": "stream",
     "text": [
      "\n",
      "finded: 0\n"
     ]
    }
   ],
   "source": [
    "collection = 'photos' \n",
    "res = db.collection(collection).where(u'recognition_stats.record_in_stats', u'==', False).stream()\n",
    "count = 0\n",
    "for doc in res:\n",
    "    print('Doc:', doc.id)\n",
    "    print(doc.to_dict())\n",
    "    count += 1\n",
    "print('\\nfinded:', count)"
   ]
  },
  {
   "cell_type": "code",
   "execution_count": null,
   "id": "2a20d725",
   "metadata": {},
   "outputs": [],
   "source": []
  }
 ],
 "metadata": {
  "environment": {
   "name": "common-cpu.m79",
   "type": "gcloud",
   "uri": "gcr.io/deeplearning-platform-release/base-cpu:m79"
  },
  "kernelspec": {
   "display_name": "Python 3",
   "language": "python",
   "name": "python3"
  },
  "language_info": {
   "codemirror_mode": {
    "name": "ipython",
    "version": 3
   },
   "file_extension": ".py",
   "mimetype": "text/x-python",
   "name": "python",
   "nbconvert_exporter": "python",
   "pygments_lexer": "ipython3",
   "version": "3.7.10"
  }
 },
 "nbformat": 4,
 "nbformat_minor": 5
}