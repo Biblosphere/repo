{
 "cells": [
  {
   "cell_type": "markdown",
   "id": "170dc086",
   "metadata": {},
   "source": [
    "#### Copy baseline recognition statistics from firestore to BigQuery"
   ]
  },
  {
   "cell_type": "code",
   "execution_count": 4,
   "id": "6bb8649d",
   "metadata": {},
   "outputs": [],
   "source": [
    "import datetime"
   ]
  },
  {
   "cell_type": "code",
   "execution_count": 1,
   "id": "a55ecd0d",
   "metadata": {},
   "outputs": [
    {
     "data": {
      "text/plain": [
       "<firebase_admin.App at 0x7f9ec85c7550>"
      ]
     },
     "execution_count": 1,
     "metadata": {},
     "output_type": "execute_result"
    }
   ],
   "source": [
    "import firebase_admin\n",
    "from firebase_admin import credentials\n",
    "from firebase_admin import firestore\n",
    "from firebase_admin import db\n",
    "\n",
    "cred = credentials.Certificate(\"./keys/avea-biblosphere-210106-firebase-adminsdk-s3bjc-ff2c6ac275.json\")\n",
    "firebase_admin.initialize_app(cred)"
   ]
  },
  {
   "cell_type": "code",
   "execution_count": 2,
   "id": "7a47e88d",
   "metadata": {},
   "outputs": [],
   "source": [
    "#firestore\n",
    "db = firestore.client()"
   ]
  },
  {
   "cell_type": "code",
   "execution_count": 33,
   "id": "8f4716d7",
   "metadata": {},
   "outputs": [],
   "source": [
    "#bigquery\n",
    "from google.oauth2 import service_account\n",
    "from google.cloud import bigquery\n",
    "\n",
    "project_id = 'biblosphere-210106'\n",
    "credentials = service_account.Credentials.from_service_account_file('./keys/biblosphere-210106-46dbcd9058f7.json')\n",
    "\n",
    "bq_client = bigquery.Client(credentials= credentials,project=project_id)"
   ]
  },
  {
   "cell_type": "code",
   "execution_count": 68,
   "id": "6e3798a6",
   "metadata": {},
   "outputs": [
    {
     "name": "stdout",
     "output_type": "stream",
     "text": [
      "Created table biblosphere-210106.biblosphere.recognition_stats\n"
     ]
    }
   ],
   "source": [
    "#create table\n",
    "from google.cloud import bigquery\n",
    "\n",
    "#client = bigquery.Client()\n",
    "\n",
    "table_id = \"biblosphere-210106.biblosphere.recognition_stats\"\n",
    "\n",
    "schema = [\n",
    "    bigquery.SchemaField(\"timestamp\", \"NUMERIC\", mode=\"REQUIRED\"),\n",
    "    bigquery.SchemaField(\"date\", \"DATETIME\", mode=\"REQUIRED\"),\n",
    "    bigquery.SchemaField(\"photo_id\", \"STRING\", mode=\"REQUIRED\"),\n",
    "    bigquery.SchemaField(\"algorithm\", \"STRING\", mode=\"REQUIRED\"),\n",
    "    bigquery.SchemaField(\"known_books\", \"INTEGER\", mode=\"NULLABLE\"),\n",
    "    bigquery.SchemaField(\"duration_microsec\", \"INTEGER\", mode=\"NULLABLE\"),\n",
    "    bigquery.SchemaField(\"recognized_books\", \"INTEGER\", mode=\"NULLABLE\"),\n",
    "    bigquery.SchemaField(\"total_finded_books\", \"INTEGER\", mode=\"NULLABLE\"),\n",
    "    bigquery.SchemaField(\"detectron_finded_books\", \"INTEGER\", mode=\"NULLABLE\"),\n",
    "    bigquery.SchemaField(\"photo_url\", \"STRING\", mode=\"NULLABLE\"),\n",
    "    bigquery.SchemaField(\"added\", \"DATETIME\", mode=\"REQUIRED\"),\n",
    "]\n",
    "\n",
    "table = bigquery.Table(table_id, schema=schema)\n",
    "table = bq_client.create_table(table)  \n",
    "print(\n",
    "    \"Created table {}.{}.{}\".format(table.project, table.dataset_id, table.table_id)\n",
    ")"
   ]
  },
  {
   "cell_type": "code",
   "execution_count": 70,
   "id": "00076916",
   "metadata": {},
   "outputs": [],
   "source": [
    "def insert_photo_to_bigquery(doc, table_id):\n",
    "    data = doc.to_dict()\n",
    "    \n",
    "    today_date = datetime.datetime(2021, 9, 10)\n",
    "    today_timestamp = today_date.timestamp()\n",
    "    algoritm = \"Denis's baseline algorithm (not ml)\"\n",
    "    known_books = None\n",
    "    \n",
    "    record = [{u'timestamp': today_timestamp,\n",
    "              u'date': today_date.isoformat(),\n",
    "              u'photo_id': doc.id,\n",
    "              u'algorithm': algoritm,\n",
    "              u'known_books': known_books,\n",
    "              u'duration_microsec': None,\n",
    "              u'recognized_books': data['recognized'] if 'recognized' in data else 0,\n",
    "              u'total_finded_books': data['total'] if 'total' in data else 0,\n",
    "              u'detectron_finded_books': None,\n",
    "              u'photo_url': data['thumbnail'] if 'thumbnail' in data else None,\n",
    "              u'added': datetime.datetime.today().isoformat(),\n",
    "    }]\n",
    "    #print(record)\n",
    "    #print(data['thumbnail'])\n",
    "    #print()\n",
    "    \n",
    "    errors = bq_client.insert_rows_json(table_id, record)  # Make an API request.\n",
    "    if errors != []:\n",
    "        print(\"Encountered errors while inserting rows (photo_id: {}): {}\".format(doc.id, errors))\n",
    "    \n",
    "    "
   ]
  },
  {
   "cell_type": "code",
   "execution_count": 71,
   "id": "8b2b7f50",
   "metadata": {},
   "outputs": [
    {
     "name": "stdout",
     "output_type": "stream",
     "text": [
      "inserted: 1275\n"
     ]
    }
   ],
   "source": [
    "#insert from firestore\n",
    "\n",
    "table_id = \"biblosphere-210106.biblosphere.recognition_stats\"    \n",
    "docs = db.collection('photos').stream()\n",
    "examples = 9999\n",
    "\n",
    "count = 0\n",
    "for doc in docs:\n",
    "    if count == examples:\n",
    "        break\n",
    "    insert_photo_to_bigquery(doc, table_id)\n",
    "    count += 1\n",
    "    #print('inserted:', count, doc.id)\n",
    "    \n",
    "print('inserted:', count)"
   ]
  },
  {
   "cell_type": "code",
   "execution_count": 65,
   "id": "46c47772",
   "metadata": {},
   "outputs": [],
   "source": [
    "def photo_in_bigquery(photo_id):\n",
    "    query = f\"SELECT photo_id FROM `biblosphere-210106.biblosphere.recognition_stats` where photo_id = '{photo_id}' \"    \n",
    "    query_job = bq_client.query(query)\n",
    "    results = list(query_job.result())\n",
    "    return len(results) != 0"
   ]
  },
  {
   "cell_type": "code",
   "execution_count": 73,
   "id": "4afc917a",
   "metadata": {},
   "outputs": [
    {
     "name": "stdout",
     "output_type": "stream",
     "text": [
      "10\n",
      "20\n",
      "30\n",
      "40\n",
      "50\n",
      "60\n",
      "70\n",
      "80\n",
      "90\n",
      "100\n",
      "110\n",
      "120\n",
      "130\n",
      "140\n",
      "150\n",
      "160\n",
      "170\n",
      "180\n",
      "190\n",
      "200\n",
      "210\n",
      "220\n",
      "230\n",
      "240\n",
      "250\n",
      "260\n",
      "270\n",
      "280\n",
      "290\n",
      "300\n",
      "310\n",
      "320\n",
      "330\n",
      "340\n",
      "350\n",
      "360\n",
      "370\n",
      "380\n",
      "390\n",
      "400\n",
      "410\n",
      "420\n",
      "430\n",
      "440\n",
      "450\n",
      "460\n",
      "470\n",
      "480\n",
      "490\n",
      "500\n",
      "510\n",
      "520\n",
      "530\n",
      "540\n",
      "550\n",
      "560\n",
      "570\n",
      "580\n",
      "590\n",
      "600\n",
      "610\n",
      "620\n",
      "630\n",
      "640\n",
      "650\n",
      "660\n",
      "670\n",
      "680\n",
      "690\n",
      "700\n",
      "710\n",
      "720\n",
      "730\n",
      "740\n",
      "750\n",
      "760\n",
      "770\n",
      "780\n",
      "790\n",
      "800\n",
      "810\n",
      "820\n",
      "830\n",
      "840\n",
      "850\n",
      "860\n",
      "870\n",
      "880\n",
      "890\n",
      "900\n",
      "910\n",
      "920\n",
      "930\n",
      "940\n",
      "950\n",
      "960\n",
      "970\n",
      "980\n",
      "990\n",
      "1000\n",
      "1010\n",
      "1020\n",
      "1030\n",
      "1040\n",
      "1050\n",
      "1060\n",
      "1070\n",
      "1080\n",
      "1090\n",
      "1100\n",
      "1110\n",
      "1120\n",
      "1130\n",
      "1140\n",
      "1150\n",
      "1160\n",
      "1170\n",
      "1180\n",
      "1190\n",
      "1200\n",
      "1210\n",
      "1220\n",
      "1230\n",
      "1240\n",
      "1250\n",
      "1260\n",
      "1270\n"
     ]
    }
   ],
   "source": [
    "# inserted missed rows\n",
    "\n",
    "table_id = \"biblosphere-210106.biblosphere.recognition_stats\"    \n",
    "docs = db.collection('photos').stream()\n",
    "examples = 9999\n",
    "\n",
    "count = 0\n",
    "for doc in docs:\n",
    "    if count == examples:\n",
    "        break\n",
    "    if not photo_in_bigquery(doc.id):\n",
    "        insert_photo_to_bigquery(doc, table_id)\n",
    "    \n",
    "    count += 1\n",
    "    if count % 10 == 0:\n",
    "        print(count)\n",
    "    #print('inserted:', count, doc.id)"
   ]
  },
  {
   "cell_type": "code",
   "execution_count": null,
   "id": "2bc10826",
   "metadata": {},
   "outputs": [],
   "source": []
  },
  {
   "cell_type": "code",
   "execution_count": 7,
   "id": "87a249e3",
   "metadata": {},
   "outputs": [
    {
     "data": {
      "text/plain": [
       "(datetime.datetime(2021, 9, 10, 0, 0), 1631232000.0)"
      ]
     },
     "execution_count": 7,
     "metadata": {},
     "output_type": "execute_result"
    }
   ],
   "source": [
    "d = datetime.datetime(2021, 9, 10)\n",
    "ts = d.timestamp()\n",
    "\n",
    "d, ts"
   ]
  },
  {
   "cell_type": "code",
   "execution_count": 20,
   "id": "2dc60280",
   "metadata": {},
   "outputs": [
    {
     "data": {
      "text/plain": [
       "datetime.datetime(2021, 9, 10, 7, 10, 29, 213960)"
      ]
     },
     "execution_count": 20,
     "metadata": {},
     "output_type": "execute_result"
    }
   ],
   "source": [
    "datetime.datetime.today()"
   ]
  },
  {
   "cell_type": "code",
   "execution_count": null,
   "id": "804d3438",
   "metadata": {},
   "outputs": [],
   "source": []
  }
 ],
 "metadata": {
  "environment": {
   "name": "common-cpu.m79",
   "type": "gcloud",
   "uri": "gcr.io/deeplearning-platform-release/base-cpu:m79"
  },
  "kernelspec": {
   "display_name": "Python 3",
   "language": "python",
   "name": "python3"
  },
  "language_info": {
   "codemirror_mode": {
    "name": "ipython",
    "version": 3
   },
   "file_extension": ".py",
   "mimetype": "text/x-python",
   "name": "python",
   "nbconvert_exporter": "python",
   "pygments_lexer": "ipython3",
   "version": "3.7.10"
  }
 },
 "nbformat": 4,
 "nbformat_minor": 5
}
