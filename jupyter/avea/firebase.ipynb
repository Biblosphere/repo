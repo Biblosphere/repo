{
 "cells": [
  {
   "cell_type": "markdown",
   "id": "646105a2",
   "metadata": {},
   "source": [
    "### Connect"
   ]
  },
  {
   "cell_type": "code",
   "execution_count": 1,
   "id": "fdb4f302",
   "metadata": {},
   "outputs": [
    {
     "data": {
      "text/plain": [
       "<firebase_admin.App at 0x7f092e0b6390>"
      ]
     },
     "execution_count": 1,
     "metadata": {},
     "output_type": "execute_result"
    }
   ],
   "source": [
    "import firebase_admin\n",
    "from firebase_admin import credentials\n",
    "from firebase_admin import firestore\n",
    "from firebase_admin import storage\n",
    "from firebase_admin import auth\n",
    "from firebase_admin import db\n",
    "\n",
    "cred = credentials.Certificate(\"./keys/avea-biblosphere-210106-firebase-adminsdk-s3bjc-ff2c6ac275.json\")\n",
    "firebase_admin.initialize_app(cred)"
   ]
  },
  {
   "cell_type": "code",
   "execution_count": 2,
   "id": "ee01be47",
   "metadata": {},
   "outputs": [],
   "source": [
    "db = firestore.client()"
   ]
  },
  {
   "cell_type": "code",
   "execution_count": null,
   "id": "865e2335",
   "metadata": {},
   "outputs": [],
   "source": []
  },
  {
   "cell_type": "markdown",
   "id": "713e12d5",
   "metadata": {},
   "source": [
    "### Get one document"
   ]
  },
  {
   "cell_type": "code",
   "execution_count": 21,
   "id": "ad072116",
   "metadata": {},
   "outputs": [
    {
     "data": {
      "text/plain": [
       "{'photo': 'images/UG4o5LvNMTkQ5uFsrw3rUxUeZOv62:v9u0xzj/1625630423984.jpg',\n",
       " 'reporter': 'G4o5LvNMTkQ5uFsrw3rUxUeZOv62',\n",
       " 'url': 'https://firebasestorage.googleapis.com/v0/b/biblosphere-210106.appspot.com/o/images%2FUG4o5LvNMTkQ5uFsrw3rUxUeZOv62%3Av9u0xzj%2F1625630423984.jpg?alt=media&token=7b60fc8f-0472-431e-8714-4661e6b30035',\n",
       " 'bookplace': 'UG4o5LvNMTkQ5uFsrw3rUxUeZOv62:v9u0xzj',\n",
       " 'thumbnail': 'https://storage.googleapis.com/biblosphere-210106.appspot.com/thumbnails/UG4o5LvNMTkQ5uFsrw3rUxUeZOv62:v9u0xzj/1625630423984.jpg',\n",
       " 'id': 'ufOboNfwJD87mOyCab3K',\n",
       " 'status': 'recognized',\n",
       " 'location': {'geohash': 'v9u0xzjx2hpc',\n",
       "  'geopoint': <google.cloud.firestore_v1._helpers.GeoPoint at 0x7f7ceabf9e50>},\n",
       " 'recognized': 3,\n",
       " 'total': 7}"
      ]
     },
     "execution_count": 21,
     "metadata": {},
     "output_type": "execute_result"
    }
   ],
   "source": [
    "collection = 'photos' \n",
    "doc_id = 'ufOboNfwJD87mOyCab3K' \n",
    "\n",
    "db.collection(collection).document(doc_id).get().to_dict()"
   ]
  },
  {
   "cell_type": "code",
   "execution_count": null,
   "id": "d1ca136d",
   "metadata": {},
   "outputs": [],
   "source": []
  },
  {
   "cell_type": "markdown",
   "id": "6d6cd77b",
   "metadata": {},
   "source": [
    "### Get documents"
   ]
  },
  {
   "cell_type": "code",
   "execution_count": 6,
   "id": "5ba66036",
   "metadata": {},
   "outputs": [
    {
     "name": "stdout",
     "output_type": "stream",
     "text": [
      "Doc: 0000000000000000000000000000:548400194305210\n",
      "{'place_name': 'Denis Stark', 'location': {'geohash': 'yzzzzzzzz', 'geopoint': <google.cloud.firestore_v1._helpers.GeoPoint object at 0x7f1df4752cd0>}, 'spine': [{'x': 3257, 'y': 3075}, {'y': 3059, 'x': 3154}, {'x': 3425, 'y': 1268}, {'x': 3528, 'y': 1284}], 'place_for_cover': [{'y': 0, 'x': 0}, {'y': 3840, 'x': 0}, {'x': 3155, 'y': 3840}, {'y': 0, 'x': 3155}], 'photo_height': 3840, 'bookplace': '0000000000000000000000000000', 'photo_width': 5120, 'cover': 'https://i.livelib.ru/boocover/1000116503/200/1e6c/Naom_Homskij__O_prirode_i_yazyke._S_ocherkom_quotSekulyarnoe_svyaschenstvo_i_', 'photo': 'https://storage.cloud.google.com/biblosphere-210106.appspot.com/images/0000000000000000000000000000/0000000000034.jpg', 'outline': [{'y': 1283, 'x': 3520}, {'x': 3509, 'y': 1361}, {'y': 3043, 'x': 3262}, {'y': 3075, 'x': 3257}, {'x': 3155, 'y': 3059}, {'y': 1414, 'x': 3404}, {'y': 1269, 'x': 3426}], 'id': '0000000000000000000000000000:548400194305210', 'photo_id': 'm8WzALslkDuriCWgztYf', 'isbn': '548400194305210', 'title': 'О природе и языке. С очерком \"Секулярное священство и опасности, которые таит демократия\"', 'place_contact': '+50663042667', 'authors': ['Наом Хомский']}\n",
      "\n",
      "Doc: 0000000000000000000000000000:9780001000391\n",
      "{'isbn': '9780001000391', 'photo_height': 3840, 'photo_id': 'm8WzALslkDuriCWgztYf', 'cover': 'https://images.gr-assets.com/books/1355046521m/2547.jpg', 'title': 'The Prophet', 'place_for_cover': [{'x': 722, 'y': 0}, {'y': 3840, 'x': 722}, {'y': 3840, 'x': 5120}, {'x': 5120, 'y': 0}], 'bookplace': '0000000000000000000000000000', 'location': {'geohash': 'yzzzzzzzz', 'geopoint': <google.cloud.firestore_v1._helpers.GeoPoint object at 0x7f1df4760d10>}, 'authors': ['Kahlil Gibran'], 'spine': [{'x': 582, 'y': 2719}, {'y': 2713, 'x': 538}, {'y': 1692, 'x': 678}, {'x': 722, 'y': 1698}], 'photo': 'https://storage.cloud.google.com/biblosphere-210106.appspot.com/images/0000000000000000000000000000/0000000000034.jpg', 'outline': [{'y': 1699, 'x': 722}, {'y': 1724, 'x': 719}, {'y': 2564, 'x': 604}, {'y': 2706, 'x': 584}, {'x': 582, 'y': 2719}, {'y': 2713, 'x': 540}, {'y': 2700, 'x': 541}, {'x': 543, 'y': 2683}, {'y': 2652, 'x': 547}, {'y': 2577, 'x': 557}, {'y': 1796, 'x': 664}, {'y': 1767, 'x': 668}, {'x': 673, 'y': 1733}, {'x': 679, 'y': 1693}], 'place_contact': '+50663042667', 'place_name': 'Denis Stark', 'photo_width': 5120, 'id': '0000000000000000000000000000:9780001000391'}\n",
      "\n"
     ]
    }
   ],
   "source": [
    "collection = 'books' \n",
    "examples = 2\n",
    "\n",
    "docs = db.collection(collection).stream()\n",
    "count = 0\n",
    "for doc in docs:\n",
    "    if count == examples:\n",
    "        break\n",
    "    print('Doc:', doc.id)\n",
    "    print(doc.to_dict())\n",
    "    print('')\n",
    "    count += 1\n"
   ]
  },
  {
   "cell_type": "code",
   "execution_count": null,
   "id": "37fb48ee",
   "metadata": {},
   "outputs": [],
   "source": []
  },
  {
   "cell_type": "markdown",
   "id": "bbc068cd",
   "metadata": {},
   "source": [
    "### Get collection's count"
   ]
  },
  {
   "cell_type": "code",
   "execution_count": 7,
   "id": "9abc5260",
   "metadata": {},
   "outputs": [
    {
     "name": "stdout",
     "output_type": "stream",
     "text": [
      "photos count: 1275\n"
     ]
    }
   ],
   "source": [
    "collection = 'photos'\n",
    "\n",
    "docs = db.collection(collection).stream()\n",
    "count = 0\n",
    "for doc in docs:\n",
    "    count += 1  \n",
    "print(collection, 'count:', count)"
   ]
  },
  {
   "cell_type": "code",
   "execution_count": null,
   "id": "58f3e740",
   "metadata": {},
   "outputs": [],
   "source": []
  },
  {
   "cell_type": "markdown",
   "id": "0a820a4a",
   "metadata": {},
   "source": [
    "### Add/Update fields in document"
   ]
  },
  {
   "cell_type": "code",
   "execution_count": 4,
   "id": "e5d9a9dc",
   "metadata": {},
   "outputs": [
    {
     "name": "stdout",
     "output_type": "stream",
     "text": [
      "old document {'reporter': 'G4o5LvNMTkQ5uFsrw3rUxUeZOv62', 'bookplace': 'UG4o5LvNMTkQ5uFsrw3rUxUeZOv62:v9u0xzj', 'url': 'https://firebasestorage.googleapis.com/v0/b/biblosphere-210106.appspot.com/o/images%2FUG4o5LvNMTkQ5uFsrw3rUxUeZOv62%3Av9u0xzj%2F1625630423984.jpg?alt=media&token=7b60fc8f-0472-431e-8714-4661e6b30035', 'recognized': 3, 'recognition_stats': {'recorded_in_stats': False, 'algorithm': 'Detectron2. Build 1.0 (2021-08-25)', 'detectron_find_books': 13, 'date': '2017-08-22', 'known_books': 5000}, 'thumbnail': 'https://storage.googleapis.com/biblosphere-210106.appspot.com/thumbnails/UG4o5LvNMTkQ5uFsrw3rUxUeZOv62:v9u0xzj/1625630423984.jpg', 'location': {'geopoint': <google.cloud.firestore_v1._helpers.GeoPoint object at 0x7f0929a01ed0>, 'geohash': 'v9u0xzjx2hpc'}, 'status': 'recognized', 'photo': 'images/UG4o5LvNMTkQ5uFsrw3rUxUeZOv62:v9u0xzj/1625630423984.jpg', 'total': 7, 'id': 'ufOboNfwJD87mOyCab3K', 'test': 'test2'}\n",
      "new document {'test': 'test2', 'bookplace': 'UG4o5LvNMTkQ5uFsrw3rUxUeZOv62:v9u0xzj', 'status': 'recognized', 'url': 'https://firebasestorage.googleapis.com/v0/b/biblosphere-210106.appspot.com/o/images%2FUG4o5LvNMTkQ5uFsrw3rUxUeZOv62%3Av9u0xzj%2F1625630423984.jpg?alt=media&token=7b60fc8f-0472-431e-8714-4661e6b30035', 'id': 'ufOboNfwJD87mOyCab3K', 'location': {'geohash': 'v9u0xzjx2hpc', 'geopoint': <google.cloud.firestore_v1._helpers.GeoPoint object at 0x7f092718d5d0>}, 'recognized': 3, 'recognition_stats': {'recorded_in_stats': False, 'known_books': 5000, 'detectron_find_books': 13, 'date': '2017-08-22', 'algorithm': 'Detectron2. Build 1.0 (2021-08-25)'}, 'photo': 'images/UG4o5LvNMTkQ5uFsrw3rUxUeZOv62:v9u0xzj/1625630423984.jpg', 'reporter': 'G4o5LvNMTkQ5uFsrw3rUxUeZOv62', 'total': 7, 'thumbnail': 'https://storage.googleapis.com/biblosphere-210106.appspot.com/thumbnails/UG4o5LvNMTkQ5uFsrw3rUxUeZOv62:v9u0xzj/1625630423984.jpg'}\n"
     ]
    }
   ],
   "source": [
    "collection = 'photos' \n",
    "doc_id = 'ufOboNfwJD87mOyCab3K' \n",
    "\n",
    "data = db.collection(collection).document(doc_id).get().to_dict()\n",
    "print('old document', data)\n",
    "\n",
    "new_data = {'recognition_stats':\n",
    "                {'date': '2017-08-22',\n",
    "                'algorithm': 'Detectron2. Build 1.0 (2021-08-25)',\n",
    "                'known_books': 5000,\n",
    "                'detectron_find_books': 13,\n",
    "                'recorded_in_stats': False\n",
    "                }\n",
    "            }\n",
    "db.collection(collection).document(doc_id).update(new_data)\n",
    "\n",
    "data = db.collection(collection).document(doc_id).get().to_dict()\n",
    "print('new document', data)"
   ]
  },
  {
   "cell_type": "code",
   "execution_count": null,
   "id": "8b29d508",
   "metadata": {},
   "outputs": [],
   "source": []
  }
 ],
 "metadata": {
  "environment": {
   "name": "common-cpu.m79",
   "type": "gcloud",
   "uri": "gcr.io/deeplearning-platform-release/base-cpu:m79"
  },
  "kernelspec": {
   "display_name": "Python 3",
   "language": "python",
   "name": "python3"
  },
  "language_info": {
   "codemirror_mode": {
    "name": "ipython",
    "version": 3
   },
   "file_extension": ".py",
   "mimetype": "text/x-python",
   "name": "python",
   "nbconvert_exporter": "python",
   "pygments_lexer": "ipython3",
   "version": "3.7.10"
  }
 },
 "nbformat": 4,
 "nbformat_minor": 5
}
