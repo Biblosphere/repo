{
 "cells": [
  {
   "cell_type": "markdown",
   "source": [
    "# Collect bookspines\n",
    "Collect from firestore and storage"
   ],
   "metadata": {
    "collapsed": false,
    "pycharm": {
     "name": "#%% md\n"
    }
   }
  },
  {
   "cell_type": "code",
   "execution_count": 1,
   "metadata": {
    "collapsed": true
   },
   "outputs": [],
   "source": [
    "#firestore\n",
    "\n",
    "import firebase_admin\n",
    "from firebase_admin import credentials\n",
    "from firebase_admin import firestore\n",
    "import os, json\n",
    "\n",
    "cred = credentials.Certificate(r\"C:\\!Dev\\projects\\book_detection\\keys\\avea-biblosphere-210106-firebase-adminsdk-s3bjc-ff2c6ac275 (1).json\")\n",
    "firebase_admin.initialize_app(cred)\n",
    "\n",
    "db = firestore.client()"
   ]
  },
  {
   "cell_type": "code",
   "execution_count": 32,
   "outputs": [],
   "source": [
    "# storage\n",
    "from google.cloud import storage\n",
    "\n",
    "storage_client = storage.Client.from_service_account_json('biblosphere-210106-0e61a72c6976.json')\n",
    "bucket = storage_client.get_bucket('biblosphere-210106.appspot.com')"
   ],
   "metadata": {
    "collapsed": false,
    "pycharm": {
     "name": "#%%\n"
    }
   }
  },
  {
   "cell_type": "code",
   "execution_count": 53,
   "outputs": [
    {
     "ename": "FileNotFoundError",
     "evalue": "Could not find module 'C:\\ProgramData\\Anaconda3\\Library\\bin\\geos_c.dll' (or one of its dependencies). Try using the full path with constructor syntax.",
     "output_type": "error",
     "traceback": [
      "\u001B[1;31m---------------------------------------------------------------------------\u001B[0m",
      "\u001B[1;31mFileNotFoundError\u001B[0m                         Traceback (most recent call last)",
      "\u001B[1;32m<ipython-input-53-3ec3f02039af>\u001B[0m in \u001B[0;36m<module>\u001B[1;34m\u001B[0m\n\u001B[0;32m      1\u001B[0m \u001B[1;31m#bigquery\u001B[0m\u001B[1;33m\u001B[0m\u001B[1;33m\u001B[0m\u001B[1;33m\u001B[0m\u001B[0m\n\u001B[0;32m      2\u001B[0m \u001B[1;32mfrom\u001B[0m \u001B[0mgoogle\u001B[0m\u001B[1;33m.\u001B[0m\u001B[0moauth2\u001B[0m \u001B[1;32mimport\u001B[0m \u001B[0mservice_account\u001B[0m\u001B[1;33m\u001B[0m\u001B[1;33m\u001B[0m\u001B[0m\n\u001B[1;32m----> 3\u001B[1;33m \u001B[1;32mfrom\u001B[0m \u001B[0mgoogle\u001B[0m\u001B[1;33m.\u001B[0m\u001B[0mcloud\u001B[0m \u001B[1;32mimport\u001B[0m \u001B[0mbigquery\u001B[0m\u001B[1;33m\u001B[0m\u001B[1;33m\u001B[0m\u001B[0m\n\u001B[0m\u001B[0;32m      4\u001B[0m \u001B[1;33m\u001B[0m\u001B[0m\n\u001B[0;32m      5\u001B[0m \u001B[0mproject_id\u001B[0m \u001B[1;33m=\u001B[0m \u001B[1;34m'biblosphere-210106'\u001B[0m\u001B[1;33m\u001B[0m\u001B[1;33m\u001B[0m\u001B[0m\n",
      "\u001B[1;32mC:\\ProgramData\\Anaconda3\\lib\\site-packages\\google\\cloud\\bigquery\\__init__.py\u001B[0m in \u001B[0;36m<module>\u001B[1;34m\u001B[0m\n\u001B[0;32m     33\u001B[0m \u001B[0m__version__\u001B[0m \u001B[1;33m=\u001B[0m \u001B[0mbigquery_version\u001B[0m\u001B[1;33m.\u001B[0m\u001B[0m__version__\u001B[0m\u001B[1;33m\u001B[0m\u001B[1;33m\u001B[0m\u001B[0m\n\u001B[0;32m     34\u001B[0m \u001B[1;33m\u001B[0m\u001B[0m\n\u001B[1;32m---> 35\u001B[1;33m \u001B[1;32mfrom\u001B[0m \u001B[0mgoogle\u001B[0m\u001B[1;33m.\u001B[0m\u001B[0mcloud\u001B[0m\u001B[1;33m.\u001B[0m\u001B[0mbigquery\u001B[0m\u001B[1;33m.\u001B[0m\u001B[0mclient\u001B[0m \u001B[1;32mimport\u001B[0m \u001B[0mClient\u001B[0m\u001B[1;33m\u001B[0m\u001B[1;33m\u001B[0m\u001B[0m\n\u001B[0m\u001B[0;32m     36\u001B[0m \u001B[1;32mfrom\u001B[0m \u001B[0mgoogle\u001B[0m\u001B[1;33m.\u001B[0m\u001B[0mcloud\u001B[0m\u001B[1;33m.\u001B[0m\u001B[0mbigquery\u001B[0m\u001B[1;33m.\u001B[0m\u001B[0mdataset\u001B[0m \u001B[1;32mimport\u001B[0m \u001B[0mAccessEntry\u001B[0m\u001B[1;33m\u001B[0m\u001B[1;33m\u001B[0m\u001B[0m\n\u001B[0;32m     37\u001B[0m \u001B[1;32mfrom\u001B[0m \u001B[0mgoogle\u001B[0m\u001B[1;33m.\u001B[0m\u001B[0mcloud\u001B[0m\u001B[1;33m.\u001B[0m\u001B[0mbigquery\u001B[0m\u001B[1;33m.\u001B[0m\u001B[0mdataset\u001B[0m \u001B[1;32mimport\u001B[0m \u001B[0mDataset\u001B[0m\u001B[1;33m\u001B[0m\u001B[1;33m\u001B[0m\u001B[0m\n",
      "\u001B[1;32mC:\\ProgramData\\Anaconda3\\lib\\site-packages\\google\\cloud\\bigquery\\client.py\u001B[0m in \u001B[0;36m<module>\u001B[1;34m\u001B[0m\n\u001B[0;32m     68\u001B[0m \u001B[1;32mfrom\u001B[0m \u001B[0mgoogle\u001B[0m\u001B[1;33m.\u001B[0m\u001B[0mcloud\u001B[0m\u001B[1;33m.\u001B[0m\u001B[0mbigquery\u001B[0m\u001B[1;33m.\u001B[0m\u001B[0m_helpers\u001B[0m \u001B[1;32mimport\u001B[0m \u001B[0m_verify_job_config_type\u001B[0m\u001B[1;33m\u001B[0m\u001B[1;33m\u001B[0m\u001B[0m\n\u001B[0;32m     69\u001B[0m \u001B[1;32mfrom\u001B[0m \u001B[0mgoogle\u001B[0m\u001B[1;33m.\u001B[0m\u001B[0mcloud\u001B[0m\u001B[1;33m.\u001B[0m\u001B[0mbigquery\u001B[0m\u001B[1;33m.\u001B[0m\u001B[0m_http\u001B[0m \u001B[1;32mimport\u001B[0m \u001B[0mConnection\u001B[0m\u001B[1;33m\u001B[0m\u001B[1;33m\u001B[0m\u001B[0m\n\u001B[1;32m---> 70\u001B[1;33m \u001B[1;32mfrom\u001B[0m \u001B[0mgoogle\u001B[0m\u001B[1;33m.\u001B[0m\u001B[0mcloud\u001B[0m\u001B[1;33m.\u001B[0m\u001B[0mbigquery\u001B[0m \u001B[1;32mimport\u001B[0m \u001B[0m_pandas_helpers\u001B[0m\u001B[1;33m\u001B[0m\u001B[1;33m\u001B[0m\u001B[0m\n\u001B[0m\u001B[0;32m     71\u001B[0m \u001B[1;32mfrom\u001B[0m \u001B[0mgoogle\u001B[0m\u001B[1;33m.\u001B[0m\u001B[0mcloud\u001B[0m\u001B[1;33m.\u001B[0m\u001B[0mbigquery\u001B[0m\u001B[1;33m.\u001B[0m\u001B[0mdataset\u001B[0m \u001B[1;32mimport\u001B[0m \u001B[0mDataset\u001B[0m\u001B[1;33m\u001B[0m\u001B[1;33m\u001B[0m\u001B[0m\n\u001B[0;32m     72\u001B[0m \u001B[1;32mfrom\u001B[0m \u001B[0mgoogle\u001B[0m\u001B[1;33m.\u001B[0m\u001B[0mcloud\u001B[0m\u001B[1;33m.\u001B[0m\u001B[0mbigquery\u001B[0m\u001B[1;33m.\u001B[0m\u001B[0mdataset\u001B[0m \u001B[1;32mimport\u001B[0m \u001B[0mDatasetListItem\u001B[0m\u001B[1;33m\u001B[0m\u001B[1;33m\u001B[0m\u001B[0m\n",
      "\u001B[1;32mC:\\ProgramData\\Anaconda3\\lib\\site-packages\\google\\cloud\\bigquery\\_pandas_helpers.py\u001B[0m in \u001B[0;36m<module>\u001B[1;34m\u001B[0m\n\u001B[0;32m     30\u001B[0m \u001B[1;32mtry\u001B[0m\u001B[1;33m:\u001B[0m\u001B[1;33m\u001B[0m\u001B[1;33m\u001B[0m\u001B[0m\n\u001B[0;32m     31\u001B[0m     \u001B[1;31m# _BaseGeometry is used to detect shapely objevys in `bq_to_arrow_array`\u001B[0m\u001B[1;33m\u001B[0m\u001B[1;33m\u001B[0m\u001B[1;33m\u001B[0m\u001B[0m\n\u001B[1;32m---> 32\u001B[1;33m     \u001B[1;32mfrom\u001B[0m \u001B[0mshapely\u001B[0m\u001B[1;33m.\u001B[0m\u001B[0mgeometry\u001B[0m\u001B[1;33m.\u001B[0m\u001B[0mbase\u001B[0m \u001B[1;32mimport\u001B[0m \u001B[0mBaseGeometry\u001B[0m \u001B[1;32mas\u001B[0m \u001B[0m_BaseGeometry\u001B[0m\u001B[1;33m\u001B[0m\u001B[1;33m\u001B[0m\u001B[0m\n\u001B[0m\u001B[0;32m     33\u001B[0m \u001B[1;32mexcept\u001B[0m \u001B[0mImportError\u001B[0m\u001B[1;33m:\u001B[0m  \u001B[1;31m# pragma: NO COVER\u001B[0m\u001B[1;33m\u001B[0m\u001B[1;33m\u001B[0m\u001B[0m\n\u001B[0;32m     34\u001B[0m     \u001B[1;31m# No shapely, use NoneType for _BaseGeometry as a placeholder.\u001B[0m\u001B[1;33m\u001B[0m\u001B[1;33m\u001B[0m\u001B[1;33m\u001B[0m\u001B[0m\n",
      "\u001B[1;32mC:\\ProgramData\\Anaconda3\\lib\\site-packages\\shapely\\geometry\\__init__.py\u001B[0m in \u001B[0;36m<module>\u001B[1;34m\u001B[0m\n\u001B[0;32m      2\u001B[0m \"\"\"\n\u001B[0;32m      3\u001B[0m \u001B[1;33m\u001B[0m\u001B[0m\n\u001B[1;32m----> 4\u001B[1;33m \u001B[1;32mfrom\u001B[0m \u001B[1;33m.\u001B[0m\u001B[0mbase\u001B[0m \u001B[1;32mimport\u001B[0m \u001B[0mCAP_STYLE\u001B[0m\u001B[1;33m,\u001B[0m \u001B[0mJOIN_STYLE\u001B[0m\u001B[1;33m\u001B[0m\u001B[1;33m\u001B[0m\u001B[0m\n\u001B[0m\u001B[0;32m      5\u001B[0m \u001B[1;32mfrom\u001B[0m \u001B[1;33m.\u001B[0m\u001B[0mgeo\u001B[0m \u001B[1;32mimport\u001B[0m \u001B[0mbox\u001B[0m\u001B[1;33m,\u001B[0m \u001B[0mshape\u001B[0m\u001B[1;33m,\u001B[0m \u001B[0masShape\u001B[0m\u001B[1;33m,\u001B[0m \u001B[0mmapping\u001B[0m\u001B[1;33m\u001B[0m\u001B[1;33m\u001B[0m\u001B[0m\n\u001B[0;32m      6\u001B[0m \u001B[1;32mfrom\u001B[0m \u001B[1;33m.\u001B[0m\u001B[0mpoint\u001B[0m \u001B[1;32mimport\u001B[0m \u001B[0mPoint\u001B[0m\u001B[1;33m,\u001B[0m \u001B[0masPoint\u001B[0m\u001B[1;33m\u001B[0m\u001B[1;33m\u001B[0m\u001B[0m\n",
      "\u001B[1;32mC:\\ProgramData\\Anaconda3\\lib\\site-packages\\shapely\\geometry\\base.py\u001B[0m in \u001B[0;36m<module>\u001B[1;34m\u001B[0m\n\u001B[0;32m     17\u001B[0m \u001B[1;33m\u001B[0m\u001B[0m\n\u001B[0;32m     18\u001B[0m \u001B[1;32mfrom\u001B[0m \u001B[0mshapely\u001B[0m\u001B[1;33m.\u001B[0m\u001B[0maffinity\u001B[0m \u001B[1;32mimport\u001B[0m \u001B[0maffine_transform\u001B[0m\u001B[1;33m\u001B[0m\u001B[1;33m\u001B[0m\u001B[0m\n\u001B[1;32m---> 19\u001B[1;33m \u001B[1;32mfrom\u001B[0m \u001B[0mshapely\u001B[0m\u001B[1;33m.\u001B[0m\u001B[0mcoords\u001B[0m \u001B[1;32mimport\u001B[0m \u001B[0mCoordinateSequence\u001B[0m\u001B[1;33m\u001B[0m\u001B[1;33m\u001B[0m\u001B[0m\n\u001B[0m\u001B[0;32m     20\u001B[0m \u001B[1;32mfrom\u001B[0m \u001B[0mshapely\u001B[0m\u001B[1;33m.\u001B[0m\u001B[0merrors\u001B[0m \u001B[1;32mimport\u001B[0m \u001B[0mWKBReadingError\u001B[0m\u001B[1;33m,\u001B[0m \u001B[0mWKTReadingError\u001B[0m\u001B[1;33m\u001B[0m\u001B[1;33m\u001B[0m\u001B[0m\n\u001B[0;32m     21\u001B[0m \u001B[1;32mfrom\u001B[0m \u001B[0mshapely\u001B[0m\u001B[1;33m.\u001B[0m\u001B[0mgeos\u001B[0m \u001B[1;32mimport\u001B[0m \u001B[0mWKBWriter\u001B[0m\u001B[1;33m,\u001B[0m \u001B[0mWKTWriter\u001B[0m\u001B[1;33m\u001B[0m\u001B[1;33m\u001B[0m\u001B[0m\n",
      "\u001B[1;32mC:\\ProgramData\\Anaconda3\\lib\\site-packages\\shapely\\coords.py\u001B[0m in \u001B[0;36m<module>\u001B[1;34m\u001B[0m\n\u001B[0;32m      6\u001B[0m \u001B[1;32mfrom\u001B[0m \u001B[0mctypes\u001B[0m \u001B[1;32mimport\u001B[0m \u001B[0mbyref\u001B[0m\u001B[1;33m,\u001B[0m \u001B[0mc_double\u001B[0m\u001B[1;33m,\u001B[0m \u001B[0mc_uint\u001B[0m\u001B[1;33m\u001B[0m\u001B[1;33m\u001B[0m\u001B[0m\n\u001B[0;32m      7\u001B[0m \u001B[1;33m\u001B[0m\u001B[0m\n\u001B[1;32m----> 8\u001B[1;33m \u001B[1;32mfrom\u001B[0m \u001B[0mshapely\u001B[0m\u001B[1;33m.\u001B[0m\u001B[0mgeos\u001B[0m \u001B[1;32mimport\u001B[0m \u001B[0mlgeos\u001B[0m\u001B[1;33m\u001B[0m\u001B[1;33m\u001B[0m\u001B[0m\n\u001B[0m\u001B[0;32m      9\u001B[0m \u001B[1;32mfrom\u001B[0m \u001B[0mshapely\u001B[0m\u001B[1;33m.\u001B[0m\u001B[0mtopology\u001B[0m \u001B[1;32mimport\u001B[0m \u001B[0mValidating\u001B[0m\u001B[1;33m\u001B[0m\u001B[1;33m\u001B[0m\u001B[0m\n\u001B[0;32m     10\u001B[0m \u001B[1;33m\u001B[0m\u001B[0m\n",
      "\u001B[1;32mC:\\ProgramData\\Anaconda3\\lib\\site-packages\\shapely\\geos.py\u001B[0m in \u001B[0;36m<module>\u001B[1;34m\u001B[0m\n\u001B[0;32m    152\u001B[0m     \u001B[1;32mif\u001B[0m \u001B[0mos\u001B[0m\u001B[1;33m.\u001B[0m\u001B[0mgetenv\u001B[0m\u001B[1;33m(\u001B[0m\u001B[1;34m'CONDA_PREFIX'\u001B[0m\u001B[1;33m,\u001B[0m \u001B[1;34m''\u001B[0m\u001B[1;33m)\u001B[0m\u001B[1;33m:\u001B[0m\u001B[1;33m\u001B[0m\u001B[1;33m\u001B[0m\u001B[0m\n\u001B[0;32m    153\u001B[0m         \u001B[1;31m# conda package.\u001B[0m\u001B[1;33m\u001B[0m\u001B[1;33m\u001B[0m\u001B[1;33m\u001B[0m\u001B[0m\n\u001B[1;32m--> 154\u001B[1;33m         \u001B[0m_lgeos\u001B[0m \u001B[1;33m=\u001B[0m \u001B[0mCDLL\u001B[0m\u001B[1;33m(\u001B[0m\u001B[0mos\u001B[0m\u001B[1;33m.\u001B[0m\u001B[0mpath\u001B[0m\u001B[1;33m.\u001B[0m\u001B[0mjoin\u001B[0m\u001B[1;33m(\u001B[0m\u001B[0msys\u001B[0m\u001B[1;33m.\u001B[0m\u001B[0mprefix\u001B[0m\u001B[1;33m,\u001B[0m \u001B[1;34m'Library'\u001B[0m\u001B[1;33m,\u001B[0m \u001B[1;34m'bin'\u001B[0m\u001B[1;33m,\u001B[0m \u001B[1;34m'geos_c.dll'\u001B[0m\u001B[1;33m)\u001B[0m\u001B[1;33m)\u001B[0m\u001B[1;33m\u001B[0m\u001B[1;33m\u001B[0m\u001B[0m\n\u001B[0m\u001B[0;32m    155\u001B[0m     \u001B[1;32melse\u001B[0m\u001B[1;33m:\u001B[0m\u001B[1;33m\u001B[0m\u001B[1;33m\u001B[0m\u001B[0m\n\u001B[0;32m    156\u001B[0m         \u001B[1;32mtry\u001B[0m\u001B[1;33m:\u001B[0m\u001B[1;33m\u001B[0m\u001B[1;33m\u001B[0m\u001B[0m\n",
      "\u001B[1;32mC:\\ProgramData\\Anaconda3\\lib\\ctypes\\__init__.py\u001B[0m in \u001B[0;36m__init__\u001B[1;34m(self, name, mode, handle, use_errno, use_last_error, winmode)\u001B[0m\n\u001B[0;32m    371\u001B[0m \u001B[1;33m\u001B[0m\u001B[0m\n\u001B[0;32m    372\u001B[0m         \u001B[1;32mif\u001B[0m \u001B[0mhandle\u001B[0m \u001B[1;32mis\u001B[0m \u001B[1;32mNone\u001B[0m\u001B[1;33m:\u001B[0m\u001B[1;33m\u001B[0m\u001B[1;33m\u001B[0m\u001B[0m\n\u001B[1;32m--> 373\u001B[1;33m             \u001B[0mself\u001B[0m\u001B[1;33m.\u001B[0m\u001B[0m_handle\u001B[0m \u001B[1;33m=\u001B[0m \u001B[0m_dlopen\u001B[0m\u001B[1;33m(\u001B[0m\u001B[0mself\u001B[0m\u001B[1;33m.\u001B[0m\u001B[0m_name\u001B[0m\u001B[1;33m,\u001B[0m \u001B[0mmode\u001B[0m\u001B[1;33m)\u001B[0m\u001B[1;33m\u001B[0m\u001B[1;33m\u001B[0m\u001B[0m\n\u001B[0m\u001B[0;32m    374\u001B[0m         \u001B[1;32melse\u001B[0m\u001B[1;33m:\u001B[0m\u001B[1;33m\u001B[0m\u001B[1;33m\u001B[0m\u001B[0m\n\u001B[0;32m    375\u001B[0m             \u001B[0mself\u001B[0m\u001B[1;33m.\u001B[0m\u001B[0m_handle\u001B[0m \u001B[1;33m=\u001B[0m \u001B[0mhandle\u001B[0m\u001B[1;33m\u001B[0m\u001B[1;33m\u001B[0m\u001B[0m\n",
      "\u001B[1;31mFileNotFoundError\u001B[0m: Could not find module 'C:\\ProgramData\\Anaconda3\\Library\\bin\\geos_c.dll' (or one of its dependencies). Try using the full path with constructor syntax."
     ]
    }
   ],
   "source": [
    "#bigquery\n",
    "from google.oauth2 import service_account\n",
    "from google.cloud import bigquery\n",
    "\n",
    "project_id = 'biblosphere-210106'\n",
    "credentials = service_account.Credentials.from_service_account_file('./keys/biblosphere-210106-46dbcd9058f7.json')\n",
    "\n",
    "bq_client = bigquery.Client(credentials= credentials,project=project_id)"
   ],
   "metadata": {
    "collapsed": false,
    "pycharm": {
     "name": "#%%\n"
    }
   }
  },
  {
   "cell_type": "code",
   "execution_count": null,
   "outputs": [],
   "source": [
    "#create table\n",
    "from google.cloud import bigquery\n",
    "\n",
    "#client = bigquery.Client()\n",
    "\n",
    "table_id = \"biblosphere-210106.biblosphere.finded_unfinded_books\"\n",
    "\n",
    "schema = [\n",
    "    bigquery.SchemaField(\"photo_id\", \"STRING\", mode=\"REQUIRED\"),\n",
    "    bigquery.SchemaField(\"result\", \"STRING\", mode=\"REQUIRED\"),\n",
    "    bigquery.SchemaField(\"bookspine\", \"STRING\", mode=\"REQUIRED\"),\n",
    "    bigquery.SchemaField(\"book\", \"JSON\", mode=\"NULLABLE\"),\n",
    "    bigquery.SchemaField(\"url\", \"STRING\", mode=\"NULLABLE\")\n",
    "]\n",
    "\n",
    "table = bigquery.Table(table_id, schema=schema)\n",
    "table = bq_client.create_table(table)\n",
    "print(\n",
    "    \"Created table {}.{}.{}\".format(table.project, table.dataset_id, table.table_id)\n",
    ")"
   ],
   "metadata": {
    "collapsed": false,
    "pycharm": {
     "name": "#%%\n"
    }
   }
  },
  {
   "cell_type": "code",
   "execution_count": null,
   "outputs": [],
   "source": [
    "def get_books_from_bucket(data):\n",
    "    filename = data['photo']\n",
    "    json_filename = os.path.splitext(filename)[0] + '.json'\n",
    "    jsonfile_blob = bucket.blob(json_filename)\n",
    "\n",
    "    json_data = json.loads(jsonfile_blob.download_as_string())\n",
    "    recognized = json_data['recognized'] if 'recognized' else []\n",
    "    unrecognized = json_data['unrecognized'] if 'unrecognized' else []\n",
    "\n",
    "    return recognized, unrecognized"
   ],
   "metadata": {
    "collapsed": false,
    "pycharm": {
     "name": "#%%\n"
    }
   }
  },
  {
   "cell_type": "code",
   "execution_count": 52,
   "outputs": [
    {
     "name": "stdout",
     "output_type": "stream",
     "text": [
      "0) 03E2LrAHsJucumq0el4Q\n",
      "{'photo_id': '03E2LrAHsJucumq0el4Q', 'result': 'recognized', 'bookspine': 'кровь пот и пиксели десен', 'book': {'_type': 'Book', 'authors': 'Шрейер Джейсон', 'back_text': '', 'cover_text': '', 'description': '', 'genre': '', 'image': 'https://cdn1.ozone.ru/multimedia/c250/1023291146.jpg', 'isbn': '9785040925612', 'keys': ['кровь', 'пот', 'и', 'пиксели', 'обратная', 'сторона', 'индустрии', 'видеоигр', 'шрейер', 'джейсон'], 'language': 'rus', 'tags': '', 'title': 'Кровь, пот и пиксели. Обратная сторона индустрии видеоигр'}, 'url': 'https://firebasestorage.googleapis.com:443/v0/b/biblosphere-210106.appspot.com/o/images%2FPChIJi-dY2A8xlkYRtwyBveXn2tY%2F1625910544469.jpg?alt=media&token=564e5d37-f053-43fc-94ee-4585cc284aaa'}\n",
      "{'photo_id': '03E2LrAHsJucumq0el4Q', 'result': 'recognized', 'bookspine': 'борзов батл с кадровиком', 'book': {'_type': 'Book', 'authors': 'Борзов Ричард', 'back_text': '', 'cover_text': '', 'description': '', 'genre': '', 'image': 'https://cdn1.ozone.ru/multimedia/c250/1023795251.jpg', 'isbn': '9785969303898', 'keys': ['батл', 'с', 'кадровиком', 'как', 'пройти', 'собеседование', 'и', 'выполнить', 'все', 'тесты', 'борзов', 'ричард'], 'language': 'rus', 'tags': '', 'title': 'Батл с кадровиком. Как пройти собеседование и выполнить все тесты'}, 'url': 'https://firebasestorage.googleapis.com:443/v0/b/biblosphere-210106.appspot.com/o/images%2FPChIJi-dY2A8xlkYRtwyBveXn2tY%2F1625910544469.jpg?alt=media&token=564e5d37-f053-43fc-94ee-4585cc284aaa'}\n",
      "{'photo_id': '03E2LrAHsJucumq0el4Q', 'result': 'recognized', 'bookspine': 'дуглас ван прает бессознательный брендинг', 'book': {'_type': 'Book', 'authors': 'ван Прает Дуглас', 'back_text': '', 'cover_text': '', 'description': '', 'genre': '', 'image': 'https://cdn1.ozone.ru/multimedia/c250/1021860691.jpg', 'isbn': '9785389143227', 'keys': ['бессознательный', 'брендинг', 'использование', 'в', 'маркетинге', 'новейших', 'достижений', 'нейробиологии', 'ван', 'прает', 'дуглас'], 'language': 'rus', 'tags': '', 'title': 'Бессознательный брендинг. Использование в маркетинге новейших достижений нейробиологии'}, 'url': 'https://firebasestorage.googleapis.com:443/v0/b/biblosphere-210106.appspot.com/o/images%2FPChIJi-dY2A8xlkYRtwyBveXn2tY%2F1625910544469.jpg?alt=media&token=564e5d37-f053-43fc-94ee-4585cc284aaa'}\n",
      "{'photo_id': '03E2LrAHsJucumq0el4Q', 'result': 'recognized', 'bookspine': 'сис андерсон ted talks croba меняют от и lombopa', 'book': {'_type': 'Book', 'authors': 'Андерсон, Крис.', 'back_text': '', 'cover_text': '', 'description': '', 'genre': '', 'image': '', 'isbn': '9785699909612', 'keys': ['ted', 'talks', 'слова', 'меняют', 'мир', 'андерсон', 'крис'], 'language': '', 'tags': '', 'title': 'TED talks. Слова меняют мир '}, 'url': 'https://firebasestorage.googleapis.com:443/v0/b/biblosphere-210106.appspot.com/o/images%2FPChIJi-dY2A8xlkYRtwyBveXn2tY%2F1625910544469.jpg?alt=media&token=564e5d37-f053-43fc-94ee-4585cc284aaa'}\n",
      "{'photo_id': '03E2LrAHsJucumq0el4Q', 'result': 'recognized', 'bookspine': 'нина зверева вам слово 3', 'book': {'_type': 'Book', 'authors': 'Зверева Нина', 'back_text': '', 'cover_text': '', 'description': '', 'genre': '', 'image': 'https://cdn1.ozone.ru/multimedia/c250/1023158208.jpg', 'isbn': '9785961469974', 'keys': ['вам', 'слово', 'выступление', 'без', 'волнения', 'зверева', 'нина'], 'language': 'rus', 'tags': '', 'title': 'Вам слово! Выступление без волнения'}, 'url': 'https://firebasestorage.googleapis.com:443/v0/b/biblosphere-210106.appspot.com/o/images%2FPChIJi-dY2A8xlkYRtwyBveXn2tY%2F1625910544469.jpg?alt=media&token=564e5d37-f053-43fc-94ee-4585cc284aaa'}\n",
      "{'photo_id': '03E2LrAHsJucumq0el4Q', 'result': 'recognized', 'bookspine': 'мотивация на 100% %', 'book': {'_type': 'Book', 'authors': 'Иванова Светлана', 'back_text': '', 'cover_text': '', 'description': '', 'genre': '', 'image': 'https://cdn1.ozone.ru/s3/multimedia-q/c250/6005947514.jpg', 'isbn': '9785961429640', 'keys': ['мотивация', 'на', '100%', 'а', 'где', 'же', 'у', 'него', 'кнопка', 'иванова', 'светлана'], 'language': 'rus', 'tags': '', 'title': 'Мотивация на 100%. А где же у него кнопка?'}, 'url': 'https://firebasestorage.googleapis.com:443/v0/b/biblosphere-210106.appspot.com/o/images%2FPChIJi-dY2A8xlkYRtwyBveXn2tY%2F1625910544469.jpg?alt=media&token=564e5d37-f053-43fc-94ee-4585cc284aaa'}\n",
      "{'photo_id': '03E2LrAHsJucumq0el4Q', 'result': 'recognized', 'bookspine': 'как стать отличным руководителем', 'book': {'_type': 'Book', 'authors': '', 'back_text': '', 'cover_text': '', 'description': '', 'genre': '', 'image': 'https://cdn1.ozone.ru/s3/multimedia-0/c250/6004399956.jpg', 'isbn': '9785001464730', 'keys': ['как', 'стать', 'отличным', 'руководителем', 'рабочая', 'тетрадь', 'для', 'развития', 'ключевых', 'навыков'], 'language': 'rus', 'tags': '', 'title': 'Как стать отличным руководителем. Рабочая тетрадь для развития ключевых навыков'}, 'url': 'https://firebasestorage.googleapis.com:443/v0/b/biblosphere-210106.appspot.com/o/images%2FPChIJi-dY2A8xlkYRtwyBveXn2tY%2F1625910544469.jpg?alt=media&token=564e5d37-f053-43fc-94ee-4585cc284aaa'}\n",
      "{'photo_id': '03E2LrAHsJucumq0el4Q', 'result': 'recognized', 'bookspine': 'шалерев в работать рабочее время правила над ос', 'book': {'_type': 'Book', 'authors': 'Бехтерев Сергей Владимирович', 'back_text': '', 'cover_text': '', 'description': '', 'genre': '', 'image': 'https://cdn1.ozone.ru/multimedia/c250/1021598643.jpg', 'isbn': '9785961466324', 'keys': ['как', 'работать', 'в', 'рабочее', 'время', 'правила', 'победы', 'над', 'офисным', 'хаосом', 'бехтерев', 'сергей', 'владимирович'], 'language': 'rus', 'tags': '', 'title': 'Как работать в рабочее время. Правила победы над офисным хаосом'}, 'url': 'https://firebasestorage.googleapis.com:443/v0/b/biblosphere-210106.appspot.com/o/images%2FPChIJi-dY2A8xlkYRtwyBveXn2tY%2F1625910544469.jpg?alt=media&token=564e5d37-f053-43fc-94ee-4585cc284aaa'}\n",
      "{'photo_id': '03E2LrAHsJucumq0el4Q', 'result': 'recognized', 'bookspine': 'игорь рызов я всегда знаю что сказать', 'book': {'_type': 'Book', 'authors': 'Самыкина, Светлана Викторовна.', 'back_text': '', 'cover_text': '', 'description': '', 'genre': '', 'image': '', 'isbn': '9785996359684', 'keys': ['что', 'я', 'знаю', 'что', 'я', 'умею', 'литературное', 'чтение', '3', 'класс', 'тетрадь', 'проверочных', 'работ', 'вариант', '1', 'что', 'я', 'знаю', 'что', 'я', 'умею', 'литературное', 'чтение', '3', 'класс', 'тетрадь', 'проверочных', 'работ', 'вариант', '2', 'самыкина', 'светлана', 'викторовна', 'москва', 'бином', 'лаб', 'знаний', 'cop', '2020', '22', 'самыкина', 'светлана', 'викторовна'], 'language': '', 'tags': '', 'title': 'Что я знаю. Что я умею. Литературное чтение. 3 класс. Тетрадь проверочных работ. Вариант 1 : Что я знаю. Что я умею. Литературное чтение. 3 класс. Тетрадь проверочных работ. Вариант 2 / Самыкина Светлана Викторовна. - Москва : БИНОМ. Лаб. знаний, cop. 2020. - 22, '}, 'url': 'https://firebasestorage.googleapis.com:443/v0/b/biblosphere-210106.appspot.com/o/images%2FPChIJi-dY2A8xlkYRtwyBveXn2tY%2F1625910544469.jpg?alt=media&token=564e5d37-f053-43fc-94ee-4585cc284aaa'}\n",
      "{'photo_id': '03E2LrAHsJucumq0el4Q', 'result': 'recognized', 'bookspine': 'джулиан трежер выступление стиле в ted', 'book': {'_type': 'Book', 'authors': 'Донован, Джереми.', 'back_text': '', 'cover_text': '', 'description': '', 'genre': '', 'image': '', 'isbn': '9785916577037', 'keys': ['выступление', 'в', 'стиле', 'ted', 'донован', 'джереми'], 'language': '', 'tags': '', 'title': 'Выступление в стиле TED '}, 'url': 'https://firebasestorage.googleapis.com:443/v0/b/biblosphere-210106.appspot.com/o/images%2FPChIJi-dY2A8xlkYRtwyBveXn2tY%2F1625910544469.jpg?alt=media&token=564e5d37-f053-43fc-94ee-4585cc284aaa'}\n",
      "{'photo_id': '03E2LrAHsJucumq0el4Q', 'result': 'recognized', 'bookspine': 'ричард бояцис bela mezcoa на одной волне і', 'book': {'_type': 'Book', 'authors': 'МакКи Энни, Бояцис Ричард', 'back_text': '', 'cover_text': '', 'description': '', 'genre': '', 'image': 'https://cdn1.ozone.ru/multimedia/c250/1012595391.jpg', 'isbn': '9785961452488', 'keys': ['на', 'одной', 'волне', 'как', 'управлять', 'эмоциональным', 'климатом', 'в', 'коллективе', 'макки', 'энни', 'бояцис', 'ричард'], 'language': 'rus', 'tags': '', 'title': 'На одной волне. Как управлять эмоциональным климатом в коллективе'}, 'url': 'https://firebasestorage.googleapis.com:443/v0/b/biblosphere-210106.appspot.com/o/images%2FPChIJi-dY2A8xlkYRtwyBveXn2tY%2F1625910544469.jpg?alt=media&token=564e5d37-f053-43fc-94ee-4585cc284aaa'}\n",
      "{'photo_id': '03E2LrAHsJucumq0el4Q', 'result': 'recognized', 'bookspine': 'і стеб архангельский тайм драйв', 'book': {'_type': 'Book', 'authors': 'Архангельский Глеб Алексеевич', 'back_text': '', 'cover_text': '', 'description': '', 'genre': '', 'image': 'https://cdn1.ozone.ru/multimedia/c250/1007076826.jpg', 'isbn': '9785000573037', 'keys': ['тайм', 'драйв', 'как', 'успевать', 'жить', 'и', 'работать', 'архангельский', 'глеб', 'алексеевич'], 'language': 'rus', 'tags': '', 'title': 'Тайм-драйв. Как успевать жить и работать'}, 'url': 'https://firebasestorage.googleapis.com:443/v0/b/biblosphere-210106.appspot.com/o/images%2FPChIJi-dY2A8xlkYRtwyBveXn2tY%2F1625910544469.jpg?alt=media&token=564e5d37-f053-43fc-94ee-4585cc284aaa'}\n",
      "{'photo_id': '03E2LrAHsJucumq0el4Q', 'result': 'unrecognized', 'bookspine': 'заний в создание брендов', 'book': None, 'url': 'https://firebasestorage.googleapis.com:443/v0/b/biblosphere-210106.appspot.com/o/images%2FPChIJi-dY2A8xlkYRtwyBveXn2tY%2F1625910544469.jpg?alt=media&token=564e5d37-f053-43fc-94ee-4585cc284aaa'}\n",
      "{'photo_id': '03E2LrAHsJucumq0el4Q', 'result': 'unrecognized', 'bookspine': 'ti mohed bce позахочеты бака', 'book': None, 'url': 'https://firebasestorage.googleapis.com:443/v0/b/biblosphere-210106.appspot.com/o/images%2FPChIJi-dY2A8xlkYRtwyBveXn2tY%2F1625910544469.jpg?alt=media&token=564e5d37-f053-43fc-94ee-4585cc284aaa'}\n",
      "{'photo_id': '03E2LrAHsJucumq0el4Q', 'result': 'unrecognized', 'bookspine': 'image teatar rum ass anna winni', 'book': None, 'url': 'https://firebasestorage.googleapis.com:443/v0/b/biblosphere-210106.appspot.com/o/images%2FPChIJi-dY2A8xlkYRtwyBveXn2tY%2F1625910544469.jpg?alt=media&token=564e5d37-f053-43fc-94ee-4585cc284aaa'}\n",
      "{'photo_id': '03E2LrAHsJucumq0el4Q', 'result': 'unrecognized', 'bookspine': 'ран сай kak cosecerobase ipote цв копановты', 'book': None, 'url': 'https://firebasestorage.googleapis.com:443/v0/b/biblosphere-210106.appspot.com/o/images%2FPChIJi-dY2A8xlkYRtwyBveXn2tY%2F1625910544469.jpg?alt=media&token=564e5d37-f053-43fc-94ee-4585cc284aaa'}\n",
      "{'photo_id': '03E2LrAHsJucumq0el4Q', 'result': 'unrecognized', 'bookspine': 'ombor дора се eprre', 'book': None, 'url': 'https://firebasestorage.googleapis.com:443/v0/b/biblosphere-210106.appspot.com/o/images%2FPChIJi-dY2A8xlkYRtwyBveXn2tY%2F1625910544469.jpg?alt=media&token=564e5d37-f053-43fc-94ee-4585cc284aaa'}\n",
      "{'photo_id': '03E2LrAHsJucumq0el4Q', 'result': 'unrecognized', 'bookspine': 'raspol 04 wldoesbithenu bomisess we todora', 'book': None, 'url': 'https://firebasestorage.googleapis.com:443/v0/b/biblosphere-210106.appspot.com/o/images%2FPChIJi-dY2A8xlkYRtwyBveXn2tY%2F1625910544469.jpg?alt=media&token=564e5d37-f053-43fc-94ee-4585cc284aaa'}\n",
      "{'photo_id': '03E2LrAHsJucumq0el4Q', 'result': 'unrecognized', 'bookspine': 'се се kohopektie ondesig', 'book': None, 'url': 'https://firebasestorage.googleapis.com:443/v0/b/biblosphere-210106.appspot.com/o/images%2FPChIJi-dY2A8xlkYRtwyBveXn2tY%2F1625910544469.jpg?alt=media&token=564e5d37-f053-43fc-94ee-4585cc284aaa'}\n",
      "{'photo_id': '03E2LrAHsJucumq0el4Q', 'result': 'unrecognized', 'bookspine': 'tywow гре уильямс жесткие переговоры', 'book': None, 'url': 'https://firebasestorage.googleapis.com:443/v0/b/biblosphere-210106.appspot.com/o/images%2FPChIJi-dY2A8xlkYRtwyBveXn2tY%2F1625910544469.jpg?alt=media&token=564e5d37-f053-43fc-94ee-4585cc284aaa'}\n",
      "{'photo_id': '03E2LrAHsJucumq0el4Q', 'result': 'unrecognized', 'bookspine': 'таотипоu to13', 'book': None, 'url': 'https://firebasestorage.googleapis.com:443/v0/b/biblosphere-210106.appspot.com/o/images%2FPChIJi-dY2A8xlkYRtwyBveXn2tY%2F1625910544469.jpg?alt=media&token=564e5d37-f053-43fc-94ee-4585cc284aaa'}\n",
      "{'photo_id': '03E2LrAHsJucumq0el4Q', 'result': 'unrecognized', 'bookspine': 'игоре pomasos не орите на меня', 'book': None, 'url': 'https://firebasestorage.googleapis.com:443/v0/b/biblosphere-210106.appspot.com/o/images%2FPChIJi-dY2A8xlkYRtwyBveXn2tY%2F1625910544469.jpg?alt=media&token=564e5d37-f053-43fc-94ee-4585cc284aaa'}\n",
      "{'photo_id': '03E2LrAHsJucumq0el4Q', 'result': 'unrecognized', 'bookspine': 'пилдиплыгин турбо кома', 'book': None, 'url': 'https://firebasestorage.googleapis.com:443/v0/b/biblosphere-210106.appspot.com/o/images%2FPChIJi-dY2A8xlkYRtwyBveXn2tY%2F1625910544469.jpg?alt=media&token=564e5d37-f053-43fc-94ee-4585cc284aaa'}\n",
      "{'photo_id': '03E2LrAHsJucumq0el4Q', 'result': 'unrecognized', 'bookspine': '0 80ijaln3d but вишок і тилдаа ашка', 'book': None, 'url': 'https://firebasestorage.googleapis.com:443/v0/b/biblosphere-210106.appspot.com/o/images%2FPChIJi-dY2A8xlkYRtwyBveXn2tY%2F1625910544469.jpg?alt=media&token=564e5d37-f053-43fc-94ee-4585cc284aaa'}\n",
      "{'photo_id': '03E2LrAHsJucumq0el4Q', 'result': 'unrecognized', 'bookspine': 'пилдип звярыгин турбо команда >', 'book': None, 'url': 'https://firebasestorage.googleapis.com:443/v0/b/biblosphere-210106.appspot.com/o/images%2FPChIJi-dY2A8xlkYRtwyBveXn2tY%2F1625910544469.jpg?alt=media&token=564e5d37-f053-43fc-94ee-4585cc284aaa'}\n",
      "{'photo_id': '03E2LrAHsJucumq0el4Q', 'result': 'unrecognized', 'bookspine': 'днз знз аад', 'book': None, 'url': 'https://firebasestorage.googleapis.com:443/v0/b/biblosphere-210106.appspot.com/o/images%2FPChIJi-dY2A8xlkYRtwyBveXn2tY%2F1625910544469.jpg?alt=media&token=564e5d37-f053-43fc-94ee-4585cc284aaa'}\n",
      "{'photo_id': '03E2LrAHsJucumq0el4Q', 'result': 'unrecognized', 'bookspine': '101 источник дохода е', 'book': None, 'url': 'https://firebasestorage.googleapis.com:443/v0/b/biblosphere-210106.appspot.com/o/images%2FPChIJi-dY2A8xlkYRtwyBveXn2tY%2F1625910544469.jpg?alt=media&token=564e5d37-f053-43fc-94ee-4585cc284aaa'}\n",
      "{'photo_id': '03E2LrAHsJucumq0el4Q', 'result': 'unrecognized', 'bookspine': 'власть голос', 'book': None, 'url': 'https://firebasestorage.googleapis.com:443/v0/b/biblosphere-210106.appspot.com/o/images%2FPChIJi-dY2A8xlkYRtwyBveXn2tY%2F1625910544469.jpg?alt=media&token=564e5d37-f053-43fc-94ee-4585cc284aaa'}\n",
      "{'photo_id': '03E2LrAHsJucumq0el4Q', 'result': 'unrecognized', 'bookspine': 'стивен бангей искусство действия', 'book': None, 'url': 'https://firebasestorage.googleapis.com:443/v0/b/biblosphere-210106.appspot.com/o/images%2FPChIJi-dY2A8xlkYRtwyBveXn2tY%2F1625910544469.jpg?alt=media&token=564e5d37-f053-43fc-94ee-4585cc284aaa'}\n",
      "{'photo_id': '03E2LrAHsJucumq0el4Q', 'result': 'unrecognized', 'bookspine': 'hoe xiudi думай и богатей', 'book': None, 'url': 'https://firebasestorage.googleapis.com:443/v0/b/biblosphere-210106.appspot.com/o/images%2FPChIJi-dY2A8xlkYRtwyBveXn2tY%2F1625910544469.jpg?alt=media&token=564e5d37-f053-43fc-94ee-4585cc284aaa'}\n",
      "{'photo_id': '03E2LrAHsJucumq0el4Q', 'result': 'unrecognized', 'bookspine': 'inscreole c c tec =', 'book': None, 'url': 'https://firebasestorage.googleapis.com:443/v0/b/biblosphere-210106.appspot.com/o/images%2FPChIJi-dY2A8xlkYRtwyBveXn2tY%2F1625910544469.jpg?alt=media&token=564e5d37-f053-43fc-94ee-4585cc284aaa'}\n",
      "{'photo_id': '03E2LrAHsJucumq0el4Q', 'result': 'unrecognized', 'bookspine': 'ет — продаберечь', 'book': None, 'url': 'https://firebasestorage.googleapis.com:443/v0/b/biblosphere-210106.appspot.com/o/images%2FPChIJi-dY2A8xlkYRtwyBveXn2tY%2F1625910544469.jpg?alt=media&token=564e5d37-f053-43fc-94ee-4585cc284aaa'}\n",
      "{'photo_id': '03E2LrAHsJucumq0el4Q', 'result': 'unrecognized', 'bookspine': 'грег уильянс жесткие', 'book': None, 'url': 'https://firebasestorage.googleapis.com:443/v0/b/biblosphere-210106.appspot.com/o/images%2FPChIJi-dY2A8xlkYRtwyBveXn2tY%2F1625910544469.jpg?alt=media&token=564e5d37-f053-43fc-94ee-4585cc284aaa'}\n",
      "{'photo_id': '03E2LrAHsJucumq0el4Q', 'result': 'unrecognized', 'bookspine': 'கோலோக правляй даа', 'book': None, 'url': 'https://firebasestorage.googleapis.com:443/v0/b/biblosphere-210106.appspot.com/o/images%2FPChIJi-dY2A8xlkYRtwyBveXn2tY%2F1625910544469.jpg?alt=media&token=564e5d37-f053-43fc-94ee-4585cc284aaa'}\n",
      "{'photo_id': '03E2LrAHsJucumq0el4Q', 'result': 'unrecognized', 'bookspine': 'пии и артем артем оепороз педоров клиент клиент согласен согласен', 'book': None, 'url': 'https://firebasestorage.googleapis.com:443/v0/b/biblosphere-210106.appspot.com/o/images%2FPChIJi-dY2A8xlkYRtwyBveXn2tY%2F1625910544469.jpg?alt=media&token=564e5d37-f053-43fc-94ee-4585cc284aaa'}\n",
      "{'photo_id': '03E2LrAHsJucumq0el4Q', 'result': 'unrecognized', 'bookspine': 'олимпиецв офисе', 'book': None, 'url': 'https://firebasestorage.googleapis.com:443/v0/b/biblosphere-210106.appspot.com/o/images%2FPChIJi-dY2A8xlkYRtwyBveXn2tY%2F1625910544469.jpg?alt=media&token=564e5d37-f053-43fc-94ee-4585cc284aaa'}\n",
      "{'photo_id': '03E2LrAHsJucumq0el4Q', 'result': 'unrecognized', 'bookspine': 'энни на с', 'book': None, 'url': 'https://firebasestorage.googleapis.com:443/v0/b/biblosphere-210106.appspot.com/o/images%2FPChIJi-dY2A8xlkYRtwyBveXn2tY%2F1625910544469.jpg?alt=media&token=564e5d37-f053-43fc-94ee-4585cc284aaa'}\n",
      "{'photo_id': '03E2LrAHsJucumq0el4Q', 'result': 'unrecognized', 'bookspine': 'на шаг впереди х', 'book': None, 'url': 'https://firebasestorage.googleapis.com:443/v0/b/biblosphere-210106.appspot.com/o/images%2FPChIJi-dY2A8xlkYRtwyBveXn2tY%2F1625910544469.jpg?alt=media&token=564e5d37-f053-43fc-94ee-4585cc284aaa'}\n",
      "{'photo_id': '03E2LrAHsJucumq0el4Q', 'result': 'unrecognized', 'bookspine': 'сергей бехтерев как работать в время рабочее правила победы над офисным хаосом', 'book': None, 'url': 'https://firebasestorage.googleapis.com:443/v0/b/biblosphere-210106.appspot.com/o/images%2FPChIJi-dY2A8xlkYRtwyBveXn2tY%2F1625910544469.jpg?alt=media&token=564e5d37-f053-43fc-94ee-4585cc284aaa'}\n",
      "{'photo_id': '03E2LrAHsJucumq0el4Q', 'result': 'unrecognized', 'bookspine': 'bedre ed eiat ceh сени с eeg ося toses бный брендинг р', 'book': None, 'url': 'https://firebasestorage.googleapis.com:443/v0/b/biblosphere-210106.appspot.com/o/images%2FPChIJi-dY2A8xlkYRtwyBveXn2tY%2F1625910544469.jpg?alt=media&token=564e5d37-f053-43fc-94ee-4585cc284aaa'}\n",
      "{'photo_id': '03E2LrAHsJucumq0el4Q', 'result': 'unrecognized', 'bookspine': 'на шаг впереди та', 'book': None, 'url': 'https://firebasestorage.googleapis.com:443/v0/b/biblosphere-210106.appspot.com/o/images%2FPChIJi-dY2A8xlkYRtwyBveXn2tY%2F1625910544469.jpg?alt=media&token=564e5d37-f053-43fc-94ee-4585cc284aaa'}\n",
      "{'photo_id': '03E2LrAHsJucumq0el4Q', 'result': 'unrecognized', 'bookspine': 'ohjoj i eddotéo heis', 'book': None, 'url': 'https://firebasestorage.googleapis.com:443/v0/b/biblosphere-210106.appspot.com/o/images%2FPChIJi-dY2A8xlkYRtwyBveXn2tY%2F1625910544469.jpg?alt=media&token=564e5d37-f053-43fc-94ee-4585cc284aaa'}\n",
      "{'photo_id': '03E2LrAHsJucumq0el4Q', 'result': 'unrecognized', 'bookspine': 'deve cipate teesee oosessis', 'book': None, 'url': 'https://firebasestorage.googleapis.com:443/v0/b/biblosphere-210106.appspot.com/o/images%2FPChIJi-dY2A8xlkYRtwyBveXn2tY%2F1625910544469.jpg?alt=media&token=564e5d37-f053-43fc-94ee-4585cc284aaa'}\n",
      "{'photo_id': '03E2LrAHsJucumq0el4Q', 'result': 'unrecognized', 'bookspine': 'лозан баотошоцна сенал гі', 'book': None, 'url': 'https://firebasestorage.googleapis.com:443/v0/b/biblosphere-210106.appspot.com/o/images%2FPChIJi-dY2A8xlkYRtwyBveXn2tY%2F1625910544469.jpg?alt=media&token=564e5d37-f053-43fc-94ee-4585cc284aaa'}\n"
     ]
    }
   ],
   "source": [
    "res = db.collection('photos').where(u'recognition_stats.record_in_stats', u'==', True).stream()\n",
    "\n",
    "count = 0\n",
    "for n, doc in enumerate(res):\n",
    "   count += 1\n",
    "   if count > 1:\n",
    "      break\n",
    "\n",
    "   photo_id = doc.id\n",
    "   print(f'{n}) {photo_id}')\n",
    "   data = doc.to_dict()\n",
    "   url = data['url']\n",
    "   recognized, unrecognized = get_books_from_bucket(data)\n",
    "\n",
    "   for book in recognized:\n",
    "      record = {'photo_id': photo_id,\n",
    "                'result': 'recognized',\n",
    "                'bookspine': book['bookspine'],\n",
    "                'book': book['book'],\n",
    "                'url': url\n",
    "                }\n",
    "      print(record)\n",
    "\n",
    "   for book in unrecognized:\n",
    "       record = {'photo_id': photo_id,\n",
    "                 'result': 'unrecognized',\n",
    "                 'bookspine': book['bookspine'],\n",
    "                 'book': None,\n",
    "                 'url': url\n",
    "                 }\n",
    "       print(record)\n",
    "\n",
    "\n",
    "\n",
    "\n",
    "\n"
   ],
   "metadata": {
    "collapsed": false,
    "pycharm": {
     "name": "#%%\n"
    }
   }
  },
  {
   "cell_type": "code",
   "execution_count": 40,
   "outputs": [],
   "source": [],
   "metadata": {
    "collapsed": false,
    "pycharm": {
     "name": "#%%\n"
    }
   }
  }
 ],
 "metadata": {
  "kernelspec": {
   "display_name": "Python 3",
   "language": "python",
   "name": "python3"
  },
  "language_info": {
   "codemirror_mode": {
    "name": "ipython",
    "version": 2
   },
   "file_extension": ".py",
   "mimetype": "text/x-python",
   "name": "python",
   "nbconvert_exporter": "python",
   "pygments_lexer": "ipython2",
   "version": "2.7.6"
  }
 },
 "nbformat": 4,
 "nbformat_minor": 0
}