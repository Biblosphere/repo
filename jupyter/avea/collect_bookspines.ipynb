{
 "cells": [
  {
   "cell_type": "markdown",
   "metadata": {
    "pycharm": {
     "name": "#%% md\n"
    }
   },
   "source": [
    "# Collect bookspines\n",
    "Collect from firestore and storage"
   ]
  },
  {
   "cell_type": "code",
   "execution_count": 1,
   "metadata": {},
   "outputs": [],
   "source": [
    "#firestore\n",
    "\n",
    "import firebase_admin\n",
    "from firebase_admin import credentials\n",
    "from firebase_admin import firestore\n",
    "import os, json\n",
    "\n",
    "cred = credentials.Certificate(r\"avea-biblosphere-210106-firebase-adminsdk-s3bjc-ff2c6ac275 (1).json\")\n",
    "firebase_admin.initialize_app(cred)\n",
    "\n",
    "db = firestore.client()"
   ]
  },
  {
   "cell_type": "code",
   "execution_count": 2,
   "metadata": {
    "collapsed": false,
    "jupyter": {
     "outputs_hidden": false
    },
    "pycharm": {
     "name": "#%%\n"
    }
   },
   "outputs": [],
   "source": [
    "# storage\n",
    "from google.cloud import storage\n",
    "\n",
    "storage_client = storage.Client.from_service_account_json('biblosphere-210106-0e61a72c6976.json')\n",
    "bucket = storage_client.get_bucket('biblosphere-210106.appspot.com')"
   ]
  },
  {
   "cell_type": "code",
   "execution_count": 3,
   "metadata": {
    "collapsed": false,
    "jupyter": {
     "outputs_hidden": false
    },
    "pycharm": {
     "name": "#%%\n"
    }
   },
   "outputs": [],
   "source": [
    "#bigquery\n",
    "from google.oauth2 import service_account\n",
    "from google.cloud import bigquery\n",
    "\n",
    "project_id = 'biblosphere-210106'\n",
    "credentials = service_account.Credentials.from_service_account_file('biblosphere-210106-0e61a72c6976.json')\n",
    "\n",
    "bq_client = bigquery.Client(credentials= credentials,project=project_id)"
   ]
  },
  {
   "cell_type": "code",
   "execution_count": 4,
   "metadata": {
    "collapsed": false,
    "jupyter": {
     "outputs_hidden": false
    },
    "pycharm": {
     "name": "#%%\n"
    }
   },
   "outputs": [
    {
     "name": "stdout",
     "output_type": "stream",
     "text": [
      "Created table biblosphere-210106.biblosphere.finded_unfinded_books\n"
     ]
    }
   ],
   "source": [
    "#create table\n",
    "from google.cloud import bigquery\n",
    "\n",
    "#client = bigquery.Client()\n",
    "\n",
    "table_id = \"biblosphere-210106.biblosphere.finded_unfinded_books\"\n",
    "\n",
    "schema = [\n",
    "    bigquery.SchemaField(\"photo_id\", \"STRING\", mode=\"REQUIRED\"),\n",
    "    bigquery.SchemaField(\"result\", \"STRING\", mode=\"REQUIRED\"),\n",
    "    bigquery.SchemaField(\"bookspine\", \"STRING\", mode=\"REQUIRED\"),\n",
    "    bigquery.SchemaField(\"url\", \"STRING\", mode=\"NULLABLE\"),\n",
    "    bigquery.SchemaField(\"authors\", \"STRING\", mode=\"NULLABLE\"),\n",
    "    bigquery.SchemaField(\"image\", \"STRING\", mode=\"NULLABLE\"),\n",
    "    bigquery.SchemaField(\"isbn\", \"STRING\", mode=\"NULLABLE\"),\n",
    "    bigquery.SchemaField(\"keys\", \"STRING\", mode=\"NULLABLE\"),\n",
    "    bigquery.SchemaField(\"language\", \"STRING\", mode=\"NULLABLE\"),\n",
    "    bigquery.SchemaField(\"title\", \"STRING\", mode=\"NULLABLE\"),\n",
    "]\n",
    "\n",
    "table = bigquery.Table(table_id, schema=schema)\n",
    "table = bq_client.create_table(table)\n",
    "print(\n",
    "    \"Created table {}.{}.{}\".format(table.project, table.dataset_id, table.table_id)\n",
    ")"
   ]
  },
  {
   "cell_type": "code",
   "execution_count": 5,
   "metadata": {
    "collapsed": false,
    "jupyter": {
     "outputs_hidden": false
    },
    "pycharm": {
     "name": "#%%\n"
    }
   },
   "outputs": [],
   "source": [
    "def get_books_from_bucket(data):\n",
    "    filename = data['photo']\n",
    "    json_filename = os.path.splitext(filename)[0] + '.json'\n",
    "    jsonfile_blob = bucket.blob(json_filename)\n",
    "\n",
    "    json_data = json.loads(jsonfile_blob.download_as_string())\n",
    "    recognized = json_data['recognized'] if 'recognized' else []\n",
    "    unrecognized = json_data['unrecognized'] if 'unrecognized' else []\n",
    "\n",
    "    return recognized, unrecognized\n",
    "\n",
    "def insert_to_bigquery(record):\n",
    "    errors = bq_client.insert_rows_json(table_id, record)  \n",
    "    if errors != []:\n",
    "        print(errors)"
   ]
  },
  {
   "cell_type": "code",
   "execution_count": null,
   "metadata": {
    "collapsed": false,
    "jupyter": {
     "outputs_hidden": false
    },
    "pycharm": {
     "name": "#%%\n"
    }
   },
   "outputs": [],
   "source": [
    "res = db.collection('photos').where(u'recognition_stats.record_in_stats', u'==', True).stream()\n",
    "\n",
    "count = 0\n",
    "for n, doc in enumerate(res):\n",
    "#     count += 1\n",
    "#     if count > 1:\n",
    "#         break\n",
    "\n",
    "    photo_id = doc.id\n",
    "    print(f'{n}) {photo_id}')\n",
    "    data = doc.to_dict()\n",
    "    url = data['url']\n",
    "    recognized, unrecognized = get_books_from_bucket(data)\n",
    "\n",
    "\n",
    "    records = []\n",
    "    for book in recognized:\n",
    "        record = {u'photo_id': photo_id,\n",
    "                u'result': 'recognized',\n",
    "                u'bookspine': book['bookspine'],\n",
    "                u'url': url,\n",
    "                u'authors': book['book']['authors'],\n",
    "                u'image': book['book']['image'],\n",
    "                u'isbn': book['book']['isbn'],\n",
    "                u'keys': ' '.join(book['book']['keys']),\n",
    "                u'language': book['book']['language'],\n",
    "                u'title': book['book']['title'],\n",
    "                }\n",
    "        records.append(record)\n",
    "      \n",
    "    for book in unrecognized:\n",
    "        record = {u'photo_id': photo_id,\n",
    "                 u'result': 'unrecognized',\n",
    "                 u'bookspine': book['bookspine'],\n",
    "                 u'url': url\n",
    "                 }\n",
    "        records.append(record)\n",
    "    \n",
    "    try:\n",
    "        insert_to_bigquery(records)\n",
    "    except:\n",
    "        print('error:', photo_id)\n",
    "        \n",
    "        "
   ]
  },
  {
   "cell_type": "code",
   "execution_count": null,
   "metadata": {},
   "outputs": [],
   "source": []
  }
 ],
 "metadata": {
  "environment": {
   "name": "common-cpu.m79",
   "type": "gcloud",
   "uri": "gcr.io/deeplearning-platform-release/base-cpu:m79"
  },
  "kernelspec": {
   "display_name": "Python 3",
   "language": "python",
   "name": "python3"
  },
  "language_info": {
   "codemirror_mode": {
    "name": "ipython",
    "version": 3
   },
   "file_extension": ".py",
   "mimetype": "text/x-python",
   "name": "python",
   "nbconvert_exporter": "python",
   "pygments_lexer": "ipython3",
   "version": "3.7.10"
  }
 },
 "nbformat": 4,
 "nbformat_minor": 4
}
