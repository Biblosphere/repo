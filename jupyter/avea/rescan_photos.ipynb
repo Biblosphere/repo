{
 "cells": [
  {
   "cell_type": "markdown",
   "metadata": {
    "collapsed": true,
    "pycharm": {
     "name": "#%% md\n"
    }
   },
   "source": [
    "# Rescan photos scripts"
   ]
  },
  {
   "cell_type": "markdown",
   "source": [],
   "metadata": {
    "collapsed": false,
    "pycharm": {
     "name": "#%% md\n"
    }
   }
  },
  {
   "cell_type": "code",
   "execution_count": 1,
   "outputs": [],
   "source": [
    "import time\n",
    "\n",
    "import firebase_admin\n",
    "import mpmath\n",
    "from firebase_admin import credentials\n",
    "from firebase_admin import firestore\n",
    "\n",
    "cred = credentials.Certificate(r\"C:\\!Dev\\projects\\book_detection\\keys\\avea-biblosphere-210106-firebase-adminsdk-s3bjc-ff2c6ac275 (1).json\")\n",
    "firebase_admin.initialize_app(cred)\n",
    "\n",
    "db = firestore.client()"
   ],
   "metadata": {
    "collapsed": false,
    "pycharm": {
     "name": "#%%\n"
    }
   }
  },
  {
   "cell_type": "markdown",
   "source": [
    "#### Not valid photos"
   ],
   "metadata": {
    "collapsed": false,
    "pycharm": {
     "name": "#%% md\n"
    }
   }
  },
  {
   "cell_type": "code",
   "execution_count": 2,
   "outputs": [
    {
     "name": "stdout",
     "output_type": "stream",
     "text": [
      "not valid: 469\n",
      "parameter is missed:\n",
      "\tphoto: 0\n",
      "\treporter: 0\n",
      "\tbookplace: 208\n",
      "\tid: 362\n",
      "\tlocation: 91\n",
      "\turl: 363\n"
     ]
    }
   ],
   "source": [
    "# parameter is missed: photo/reporter/bookplace/id/location/url\n",
    "\n",
    "res = db.collection('photos').where(u'valid', u'==', False).stream()\n",
    "not_valid = set()\n",
    "photos = set()\n",
    "reporters = set()\n",
    "bookplaces = set()\n",
    "ids = set()\n",
    "locations = set()\n",
    "urls = set()\n",
    "for doc in res:\n",
    "    data = doc.to_dict()\n",
    "\n",
    "    not_valid.add(doc.id)\n",
    "    if 'photo' not in data:\n",
    "        photos.add(doc.id)\n",
    "    if 'reporter' not in data:\n",
    "        reporters.add(doc.id)\n",
    "    if 'bookplace' not in data:\n",
    "        bookplaces.add(doc.id)\n",
    "    if 'id' not in data:\n",
    "        ids.add(doc.id)\n",
    "    if 'location' not in data:\n",
    "        locations.add(doc.id)\n",
    "    if 'url' not in data:\n",
    "        urls.add(doc.id)\n",
    "\n",
    "print('not valid:', len(not_valid))\n",
    "print('parameter is missed:')\n",
    "print('\\tphoto:', len(photos))\n",
    "print('\\treporter:', len(reporters))\n",
    "print('\\tbookplace:', len(bookplaces))\n",
    "print('\\tid:', len(ids))\n",
    "print('\\tlocation:', len(locations))\n",
    "print('\\turl:', len(urls))\n",
    "#finded"
   ],
   "metadata": {
    "collapsed": false,
    "pycharm": {
     "name": "#%%\n"
    }
   }
  },
  {
   "cell_type": "code",
   "execution_count": 4,
   "outputs": [
    {
     "name": "stdout",
     "output_type": "stream",
     "text": [
      "records not in stats: 0\n"
     ]
    }
   ],
   "source": [
    "res = db.collection('photos').where(u'recognition_stats.record_in_stats', u'==', False).stream()\n",
    "finded = set()\n",
    "count = 0\n",
    "for doc in res:\n",
    "    finded.add(doc.id)\n",
    "    # update = {'valid': True}\n",
    "    # db.collection('photos').document(doc.id).update(update)\n",
    "    # update = {'valid': False}\n",
    "    # db.collection('photos').document(doc.id).update(update)\n",
    "\n",
    "\n",
    "print('records not in stats:', len(finded))\n",
    "#finded"
   ],
   "metadata": {
    "collapsed": false,
    "pycharm": {
     "name": "#%%\n"
    }
   }
  },
  {
   "cell_type": "code",
   "execution_count": 5,
   "outputs": [
    {
     "name": "stdout",
     "output_type": "stream",
     "text": [
      "status == failed: 20\n"
     ]
    }
   ],
   "source": [
    "res = db.collection('photos').where(u'status', u'==', 'failed').stream()\n",
    "finded = set()\n",
    "for doc in res:\n",
    "    finded.add(doc.id)\n",
    "print('status == failed:', len(finded))\n",
    "#finded"
   ],
   "metadata": {
    "collapsed": false,
    "pycharm": {
     "name": "#%%\n"
    }
   }
  },
  {
   "cell_type": "markdown",
   "source": [
    "#### Photos without block 'recognition_stats'"
   ],
   "metadata": {
    "collapsed": false,
    "pycharm": {
     "name": "#%% md\n"
    }
   }
  },
  {
   "cell_type": "code",
   "execution_count": 6,
   "outputs": [
    {
     "name": "stdout",
     "output_type": "stream",
     "text": [
      "finded 25\n"
     ]
    }
   ],
   "source": [
    "res = db.collection('photos').stream()\n",
    "finded = set()\n",
    "for doc in res:\n",
    "    data = doc.to_dict()\n",
    "    if 'valid' in data and not data['valid']:\n",
    "        continue\n",
    "    if 'recognition_stats' in data:\n",
    "        continue\n",
    "    finded.add(doc.id)\n",
    "\n",
    "print('finded', len(finded))\n",
    "#finded"
   ],
   "metadata": {
    "collapsed": false,
    "pycharm": {
     "name": "#%%\n"
    }
   }
  },
  {
   "cell_type": "markdown",
   "source": [
    "#### Rescan one photo"
   ],
   "metadata": {
    "collapsed": false,
    "pycharm": {
     "name": "#%% md\n"
    }
   }
  },
  {
   "cell_type": "code",
   "execution_count": 20,
   "outputs": [
    {
     "name": "stdout",
     "output_type": "stream",
     "text": [
      "{'duration': '0:00:20.369259', 'photo_id': 'tqPJHfsFyfq3Xnl4IRAA', 'recognized_books': ['9785699410965 Как говорить с детьми, чтобы они учились Фабер Адель, Мазлиш Элейн']}\n",
      "200 OK\n",
      "duration: 0:00:20.369259\n",
      "recognized: 1\n",
      "1) 9785699410965 Как говорить с детьми, чтобы они учились Фабер Адель, Мазлиш Элейн\n"
     ]
    }
   ],
   "source": [
    "import requests\n",
    "photo_id = 'tqPJHfsFyfq3Xnl4IRAA'\n",
    "url = 'https://us-central1-biblosphere-210106.cloudfunctions.net/rescan_photo'\n",
    "\n",
    "doc = db.collection('photos').document(photo_id).get()\n",
    "data = doc.to_dict()\n",
    "\n",
    "res = requests.post(url, json={'photo_id': photo_id})\n",
    "json = res.json()\n",
    "print(json)\n",
    "print(res.status_code, res.reason)\n",
    "print('duration:', json['duration'])\n",
    "print('recognized:', len(json['recognized_books']))\n",
    "for n, el in enumerate(json['recognized_books'], 1):\n",
    "    print(f'{n}) {el}')"
   ],
   "metadata": {
    "collapsed": false,
    "pycharm": {
     "name": "#%%\n"
    }
   }
  },
  {
   "cell_type": "markdown",
   "source": [
    "#### Rescan several photos"
   ],
   "metadata": {
    "collapsed": false,
    "pycharm": {
     "name": "#%% md\n"
    }
   }
  },
  {
   "cell_type": "code",
   "execution_count": 21,
   "outputs": [
    {
     "name": "stdout",
     "output_type": "stream",
     "text": [
      "1) Rescaning photo: 03E2LrAHsJucumq0el4Q\n",
      "duration: 0:00:31.936710, recognized: 12(12)\n",
      "\n",
      "2) Rescaning photo: 0AypkMBEanU1N63WMPDb\n",
      "duration: 0:00:25.020822, recognized: 12(12)\n",
      "\n",
      "3) Rescaning photo: 0Ftx3WNzNuVOEYz6qjI7\n",
      "duration: 0:00:20.258239, recognized: 9(9)\n",
      "\n",
      "4) Rescaning photo: 0OpvuxYsnEKWrlCsYQOr\n",
      "duration: 0:00:28.217935, recognized: 9(9)\n",
      "\n",
      "5) Rescaning photo: 0TO9zoqBofca2EyVLAA8\n",
      "duration: 0:00:20.480781, recognized: 5(5)\n",
      "\n"
     ]
    }
   ],
   "source": [
    "import requests\n",
    "url = 'https://us-central1-biblosphere-210106.cloudfunctions.net/rescan_photo'\n",
    "batch_size = 5\n",
    "\n",
    "res = db.collection('photos').stream()\n",
    "count = 1\n",
    "for doc in res:\n",
    "    if count > batch_size:\n",
    "        break\n",
    "\n",
    "    data = doc.to_dict()\n",
    "    if 'valid' in data and not data['valid']:\n",
    "        continue\n",
    "    # if 'recognition_stats' in data:\n",
    "    #    continue\n",
    "\n",
    "    print(f'{count}) Rescaning photo: {doc.id}')\n",
    "\n",
    "    if not data.keys() >= {'photo', 'reporter', 'bookplace', 'id', 'location', 'url'}:\n",
    "        print('ERROR: photo/reporter/bookplace/id/location/url parameters missing.', doc.id, '\\n')\n",
    "        update = {'valid': False}\n",
    "        db.collection('photos').document(doc.id).update(update)\n",
    "        continue\n",
    "\n",
    "    old_recognized = data['recognized'] if 'recognized' in data else 0\n",
    "    res = requests.post(url, json={'photo_id': doc.id})\n",
    "    json = res.json()\n",
    "    print(f\"duration: {json['duration']}, recognized: {len(json['recognized_books'])}({old_recognized})\\n\")\n",
    "\n",
    "    count += 1"
   ],
   "metadata": {
    "collapsed": false,
    "pycharm": {
     "name": "#%%\n"
    }
   }
  },
  {
   "cell_type": "markdown",
   "source": [
    "#### Rescan several photos (threads)"
   ],
   "metadata": {
    "collapsed": false,
    "pycharm": {
     "name": "#%% md\n"
    }
   }
  },
  {
   "cell_type": "code",
   "execution_count": 13,
   "outputs": [],
   "source": [
    "import numpy as np\n",
    "import time\n",
    "\n",
    "def fill_array(size):\n",
    "    res = db.collection('photos').stream()\n",
    "    result = []\n",
    "    count = 1\n",
    "    for doc in res:\n",
    "\n",
    "        if count > batch_size * threads:\n",
    "            break\n",
    "\n",
    "        data = doc.to_dict()\n",
    "        if 'valid' in data and not data['valid']:\n",
    "            continue\n",
    "        if 'recognition_stats' in data:\n",
    "            continue\n",
    "\n",
    "        if not data.keys() >= {'photo', 'reporter', 'bookplace', 'id', 'location', 'url'}:\n",
    "            print('ERROR: photo/reporter/bookplace/id/location/url parameters missing.', doc.id, '\\n')\n",
    "            update = {'valid': False}\n",
    "            db.collection('photos').document(doc.id).update(update)\n",
    "            continue\n",
    "        result.append(doc.id)\n",
    "        count += 1\n",
    "\n",
    "    return result\n",
    "\n",
    "\n",
    "def rescan_in_thread(name: str, photo_ids: list):\n",
    "    url = 'https://us-central1-biblosphere-210106.cloudfunctions.net/rescan_photo'\n",
    "    for n, id in enumerate(photo_ids):\n",
    "        print(f'{name}: {n+1}) scanning photo: {id}')\n",
    "        res = requests.post(url, json={'photo_id': id})\n",
    "        print(res.status_code)\n",
    "\n"
   ],
   "metadata": {
    "collapsed": false,
    "pycharm": {
     "name": "#%%\n"
    }
   }
  },
  {
   "cell_type": "code",
   "execution_count": 14,
   "outputs": [
    {
     "name": "stdout",
     "output_type": "stream",
     "text": [
      "--- preparing photo ids ---\n",
      "photos: 20 \n",
      "\n",
      "---starting threads ---\n",
      "thread_0: 1) scanning photo: 3NXpOnCp0gq62pxQmxRE\n",
      "thread_1: 1) scanning photo: 7ov4FV2ixBO98jw3RQDT\n",
      "thread_2: 1) scanning photo: BC819A7J9qv3hioMGaoK\n",
      "thread_3: 1) scanning photo: LxriX9M8cHCCEBvpU0zS\n",
      "thread_4: 1) scanning photo: WmOFpQlRTZtSZPzAUf50\n",
      "thread_5: 1) scanning photo: ZZ3tvctNHdzBxoLNtucG\n",
      "thread_6: 1) scanning photo: e79opeRXT5jMVHk1mTVJ\n",
      "thread_7: 1) scanning photo: gkH8OMD2OjqLVwSWwsNI\n",
      "thread_8: 1) scanning photo: m8WzALslkDuriCWgztYfthread_9: 1) scanning photo: nb2YmhI43vaDGa2tPhBq\n",
      "\n",
      "200\n",
      "thread_1: 2) scanning photo: 89WCVEWsvMP2CaXoWYGw\n",
      "200\n",
      "200200\n",
      "\n",
      "thread_5: 2) scanning photo: cU1K2ip0eQe6U8chzpjg\n",
      "thread_8: 2) scanning photo: nIZ4fVF7LEnzLLMDSGDR\n",
      "200\n",
      "thread_3: 2) scanning photo: NvmuSTVtdqcosETeFURk\n",
      "200\n",
      "200\n",
      "thread_2: 2) scanning photo: HPsk4sqTq2YSjqW5FzUXthread_0: 2) scanning photo: 3s6Am4UxI1EAT8JzHplv\n",
      "\n",
      "200200\n",
      "thread_7: 2) scanning photo: iVM36GWVT5gSpHYkUvxm\n",
      "\n",
      "thread_9: 2) scanning photo: p0mu5NHxaz5FW895pZlQ\n",
      "200\n",
      "thread_4: 2) scanning photo: YHuXF8jOkKpmB7WkN2t4\n",
      "200\n",
      "200\n",
      "200200\n",
      "\n",
      "200\n",
      "200\n",
      "200\n",
      "200\n",
      "200\n",
      "thread_6: 2) scanning photo: fMwyBKODipSZ15cts9kl\n",
      "200\n",
      "---finish----\n",
      "Wall time: 40.7 s\n"
     ]
    }
   ],
   "source": [
    "%%time\n",
    "\n",
    "import requests\n",
    "from threading import Thread\n",
    "\n",
    "batch_size =\n",
    "threads = 10\n",
    "\n",
    "print('--- preparing photo ids ---')\n",
    "ids = fill_array(batch_size * threads)\n",
    "print(f'photos: {len(ids)} \\n')\n",
    "\n",
    "print('---starting threads ---')\n",
    "threads_list = []\n",
    "for i in range(threads):\n",
    "    start_ind = i * batch_size\n",
    "    end_ind = start_ind + batch_size\n",
    "    thread = Thread(target=rescan_in_thread, args=(f'thread_{i}', ids[start_ind:end_ind]))\n",
    "    thread.start()\n",
    "    threads_list.append(thread)\n",
    "\n",
    "for thread in threads_list:\n",
    "    thread.join()\n",
    "\n",
    "print('---finish----')"
   ],
   "metadata": {
    "collapsed": false,
    "pycharm": {
     "name": "#%%\n"
    }
   }
  },
  {
   "cell_type": "code",
   "execution_count": null,
   "outputs": [],
   "source": [],
   "metadata": {
    "collapsed": false,
    "pycharm": {
     "name": "#%%\n"
    }
   }
  },
  {
   "cell_type": "code",
   "execution_count": null,
   "outputs": [],
   "source": [],
   "metadata": {
    "collapsed": false,
    "pycharm": {
     "name": "#%%\n"
    }
   }
  },
  {
   "cell_type": "code",
   "execution_count": 15,
   "outputs": [
    {
     "name": "stdout",
     "output_type": "stream",
     "text": [
      "https://storage.cloud.google.com/biblosphere-210106.appspot.com/images/0000000000000000000000000000/0000000000034.jpg\n"
     ]
    },
    {
     "ename": "UnidentifiedImageError",
     "evalue": "cannot identify image file <_io.BytesIO object at 0x0000016904F59310>",
     "output_type": "error",
     "traceback": [
      "\u001B[1;31m---------------------------------------------------------------------------\u001B[0m",
      "\u001B[1;31mUnidentifiedImageError\u001B[0m                    Traceback (most recent call last)",
      "\u001B[1;32m<ipython-input-15-6e3794fd620e>\u001B[0m in \u001B[0;36m<module>\u001B[1;34m\u001B[0m\n\u001B[0;32m     10\u001B[0m \u001B[0mresponse\u001B[0m \u001B[1;33m=\u001B[0m \u001B[0mrequests\u001B[0m\u001B[1;33m.\u001B[0m\u001B[0mget\u001B[0m\u001B[1;33m(\u001B[0m\u001B[0mdata\u001B[0m\u001B[1;33m[\u001B[0m\u001B[1;34m'url'\u001B[0m\u001B[1;33m]\u001B[0m\u001B[1;33m)\u001B[0m\u001B[1;33m\u001B[0m\u001B[1;33m\u001B[0m\u001B[0m\n\u001B[0;32m     11\u001B[0m \u001B[1;31m#response.content\u001B[0m\u001B[1;33m\u001B[0m\u001B[1;33m\u001B[0m\u001B[1;33m\u001B[0m\u001B[0m\n\u001B[1;32m---> 12\u001B[1;33m \u001B[0mimg\u001B[0m \u001B[1;33m=\u001B[0m \u001B[0mImage\u001B[0m\u001B[1;33m.\u001B[0m\u001B[0mopen\u001B[0m\u001B[1;33m(\u001B[0m\u001B[0mBytesIO\u001B[0m\u001B[1;33m(\u001B[0m\u001B[0mresponse\u001B[0m\u001B[1;33m.\u001B[0m\u001B[0mcontent\u001B[0m\u001B[1;33m)\u001B[0m\u001B[1;33m)\u001B[0m\u001B[1;33m\u001B[0m\u001B[1;33m\u001B[0m\u001B[0m\n\u001B[0m\u001B[0;32m     13\u001B[0m \u001B[0mimg\u001B[0m\u001B[1;33m.\u001B[0m\u001B[0mshow\u001B[0m\u001B[1;33m(\u001B[0m\u001B[1;33m)\u001B[0m\u001B[1;33m\u001B[0m\u001B[1;33m\u001B[0m\u001B[0m\n",
      "\u001B[1;32mC:\\ProgramData\\Anaconda3\\lib\\site-packages\\PIL\\Image.py\u001B[0m in \u001B[0;36mopen\u001B[1;34m(fp, mode)\u001B[0m\n\u001B[0;32m   2928\u001B[0m     \u001B[1;32mfor\u001B[0m \u001B[0mmessage\u001B[0m \u001B[1;32min\u001B[0m \u001B[0maccept_warnings\u001B[0m\u001B[1;33m:\u001B[0m\u001B[1;33m\u001B[0m\u001B[1;33m\u001B[0m\u001B[0m\n\u001B[0;32m   2929\u001B[0m         \u001B[0mwarnings\u001B[0m\u001B[1;33m.\u001B[0m\u001B[0mwarn\u001B[0m\u001B[1;33m(\u001B[0m\u001B[0mmessage\u001B[0m\u001B[1;33m)\u001B[0m\u001B[1;33m\u001B[0m\u001B[1;33m\u001B[0m\u001B[0m\n\u001B[1;32m-> 2930\u001B[1;33m     raise UnidentifiedImageError(\n\u001B[0m\u001B[0;32m   2931\u001B[0m         \u001B[1;34m\"cannot identify image file %r\"\u001B[0m \u001B[1;33m%\u001B[0m \u001B[1;33m(\u001B[0m\u001B[0mfilename\u001B[0m \u001B[1;32mif\u001B[0m \u001B[0mfilename\u001B[0m \u001B[1;32melse\u001B[0m \u001B[0mfp\u001B[0m\u001B[1;33m)\u001B[0m\u001B[1;33m\u001B[0m\u001B[1;33m\u001B[0m\u001B[0m\n\u001B[0;32m   2932\u001B[0m     )\n",
      "\u001B[1;31mUnidentifiedImageError\u001B[0m: cannot identify image file <_io.BytesIO object at 0x0000016904F59310>"
     ]
    }
   ],
   "source": [
    "from PIL import Image\n",
    "import requests\n",
    "from io import BytesIO\n",
    "\n",
    "photo_id = 'fMwyBKODipSZ15cts9kl'\n",
    "\n",
    "doc = db.collection('photos').document(photo_id).get()\n",
    "data = doc.to_dict()\n",
    "print(data['url'])\n",
    "response = requests.get(data['url'])\n",
    "#response.content\n",
    "img = Image.open(BytesIO(response.content))\n",
    "img.show()"
   ],
   "metadata": {
    "collapsed": false,
    "pycharm": {
     "name": "#%%\n"
    }
   }
  },
  {
   "cell_type": "code",
   "execution_count": 16,
   "outputs": [
    {
     "data": {
      "text/plain": "{'bookplace': '0000000000000000000000000000',\n 'status': 'failed',\n 'id': 'fMwyBKODipSZ15cts9kl',\n 'thumbnail': 'https://storage.googleapis.com/biblosphere-210106.appspot.com/thumbnails/0000000000000000000000000000/0000000000034.jpg',\n 'reporter': '0000000000000000000000000000',\n 'url': 'https://storage.cloud.google.com/biblosphere-210106.appspot.com/images/0000000000000000000000000000/0000000000034.jpg',\n 'photo': 'images/0000000000000000000000000000/0000000000034.jpg',\n 'count': 0,\n 'location': {'geohash': 'yzzzzzzzz',\n  'geopoint': <google.cloud.firestore_v1._helpers.GeoPoint at 0x16902a91e50>}}"
     },
     "execution_count": 16,
     "metadata": {},
     "output_type": "execute_result"
    }
   ],
   "source": [
    "photo_id = 'fMwyBKODipSZ15cts9kl'\n",
    "doc = db.collection('photos').document(photo_id).get()\n",
    "data = doc.to_dict()\n",
    "data"
   ],
   "metadata": {
    "collapsed": false,
    "pycharm": {
     "name": "#%%\n"
    }
   }
  },
  {
   "cell_type": "code",
   "execution_count": 17,
   "outputs": [
    {
     "data": {
      "text/plain": "update_time {\n  seconds: 1642236303\n  nanos: 724799000\n}"
     },
     "execution_count": 17,
     "metadata": {},
     "output_type": "execute_result"
    }
   ],
   "source": [
    "photo_id = 'fMwyBKODipSZ15cts9kl'\n",
    "update = {'valid': False}\n",
    "db.collection('photos').document(photo_id).update(update)"
   ],
   "metadata": {
    "collapsed": false,
    "pycharm": {
     "name": "#%%\n"
    }
   }
  },
  {
   "cell_type": "code",
   "execution_count": 44,
   "outputs": [],
   "source": [],
   "metadata": {
    "collapsed": false,
    "pycharm": {
     "name": "#%%\n"
    }
   }
  },
  {
   "cell_type": "code",
   "execution_count": null,
   "outputs": [],
   "source": [],
   "metadata": {
    "collapsed": false,
    "pycharm": {
     "name": "#%%\n"
    }
   }
  }
 ],
 "metadata": {
  "kernelspec": {
   "display_name": "Python 3",
   "language": "python",
   "name": "python3"
  },
  "language_info": {
   "codemirror_mode": {
    "name": "ipython",
    "version": 2
   },
   "file_extension": ".py",
   "mimetype": "text/x-python",
   "name": "python",
   "nbconvert_exporter": "python",
   "pygments_lexer": "ipython2",
   "version": "2.7.6"
  }
 },
 "nbformat": 4,
 "nbformat_minor": 0
}