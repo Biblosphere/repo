{
 "cells": [
  {
   "cell_type": "markdown",
   "metadata": {
    "collapsed": true,
    "pycharm": {
     "name": "#%% md\n"
    }
   },
   "source": [
    "# Rescan photos scripts"
   ]
  },
  {
   "cell_type": "code",
   "execution_count": 1,
   "outputs": [],
   "source": [
    "import firebase_admin\n",
    "from firebase_admin import credentials\n",
    "from firebase_admin import firestore\n",
    "\n",
    "cred = credentials.Certificate(r\"C:\\!Dev\\projects\\book_detection\\keys\\avea-biblosphere-210106-firebase-adminsdk-s3bjc-ff2c6ac275 (1).json\")\n",
    "firebase_admin.initialize_app(cred)\n",
    "\n",
    "db = firestore.client()"
   ],
   "metadata": {
    "collapsed": false,
    "pycharm": {
     "name": "#%%\n"
    }
   }
  },
  {
   "cell_type": "markdown",
   "source": [
    "#### Not valid photos"
   ],
   "metadata": {
    "collapsed": false,
    "pycharm": {
     "name": "#%% md\n"
    }
   }
  },
  {
   "cell_type": "code",
   "execution_count": 5,
   "outputs": [
    {
     "name": "stdout",
     "output_type": "stream",
     "text": [
      "not valid: 15\n"
     ]
    }
   ],
   "source": [
    "res = db.collection('photos').where(u'valid', u'==', False).stream()\n",
    "finded = set()\n",
    "for doc in res:\n",
    "    finded.add(doc.id)\n",
    "print('not valid:', len(finded))\n",
    "#finded"
   ],
   "metadata": {
    "collapsed": false,
    "pycharm": {
     "name": "#%%\n"
    }
   }
  },
  {
   "cell_type": "markdown",
   "source": [
    "#### Photos without block 'recognition_stats'"
   ],
   "metadata": {
    "collapsed": false,
    "pycharm": {
     "name": "#%% md\n"
    }
   }
  },
  {
   "cell_type": "code",
   "execution_count": 9,
   "outputs": [
    {
     "name": "stdout",
     "output_type": "stream",
     "text": [
      "finded 1241\n"
     ]
    }
   ],
   "source": [
    "res = db.collection('photos').stream()\n",
    "finded = set()\n",
    "for doc in res:\n",
    "    data = doc.to_dict()\n",
    "    if 'valid' in data and not data['valid']:\n",
    "        continue\n",
    "    if 'recognition_stats' in data:\n",
    "        continue\n",
    "    finded.add(doc.id)\n",
    "\n",
    "print('finded', len(finded))\n",
    "#finded"
   ],
   "metadata": {
    "collapsed": false,
    "pycharm": {
     "name": "#%%\n"
    }
   }
  },
  {
   "cell_type": "markdown",
   "source": [
    "#### Rescan one photo"
   ],
   "metadata": {
    "collapsed": false,
    "pycharm": {
     "name": "#%% md\n"
    }
   }
  },
  {
   "cell_type": "code",
   "execution_count": 20,
   "outputs": [
    {
     "name": "stdout",
     "output_type": "stream",
     "text": [
      "200 OK\n",
      "duration: 0:00:44.981972\n",
      "recognized: 14\n",
      "1) 9785050040695 Современный американский детектив. Выпуск 1 Стаут Рекс Тодхантер, Макдональд Росс, Болл Джон\n",
      "2) 9785871980514 Нужный образ Хоран Джеймс\n",
      "3) 9785050027177 Дик Френсис. Кураж. Найо Марш.Занавес опускается Марш Найо, Фрэнсис Дик\n",
      "4) 9785170909933 Крутая дамочка, или Нежнее чем польская панна Вильмонт Екатерина Николаевна\n",
      "5) 9785265009937 Именем закона. Современный советский детектив. 1989 Карпович Ярослав, Булгакова Инна Валентиновна, Рябов Гелий Трофимович, Хруцкий Эдуард Анатольевич, Ромов Анатолий Сергеевич\n",
      "6) 9785969407817 Психология эмоций : учебное пособие / А. С. Осипова, А. Н. Сударик, С. Н. Федотов ; Федеральное государственное казенное образовательное учреждение высшего образования \"Московский университет Министерства внутренних дел Российской Федерации имени В. Я. Кикотя\", Кафедра психологии учебно-научного комплекса психологии служебной деятельности. - Москва : Московский ун-т МВД России им. В. Я. Кикотя, 2019. - 140 с. : ил., табл.; 21 см. - (Библиотечка психолога органов внутренних дел).; ISBN 978-5-9694-0781-7 : 103 экз. Осипова, Анна Сергеевна.\n",
      "7) 9785700100892 Золотое рандеву Маклин Алистер\n",
      "8) 9785867500276 Тайфуны с ласковыми именами. Умирать - в крайнем случае Райнов Богомил Николаев\n",
      "9) 9785080001826 Сноггл Пристли Джон Бойнтон\n",
      "10) 9785901226278 Как воспитывать родителей, или Новый нестандартный ребенок / Владимир Леви ; с авт. ил. -  Леви, Владимир Львович.\n",
      "11) 9785702008219 Красная площадь Смит Мартин Круз\n",
      "12) 9785800500172 Сакс Ромер. Дочь доктора Фу Манчи Ромер Сакс\n",
      "13) 9785171152581 В плену страсти Драйер Эйлин\n",
      "14) 9785875240065 Под страхом смерти Сименон Жорж\n",
      "Wall time: 45.8 s\n"
     ]
    }
   ],
   "source": [
    "%%time\n",
    "\n",
    "import requests\n",
    "photo_id = '0mdXOv2XMONaGUvyHHL5'\n",
    "url = 'https://us-central1-biblosphere-210106.cloudfunctions.net/rescan_photo'\n",
    "\n",
    "doc = db.collection('photos').document(photo_id).get()\n",
    "data = doc.to_dict()\n",
    "\n",
    "res = requests.post(url, json={'photo_id': photo_id})\n",
    "json = res.json()\n",
    "print(res.status_code, res.reason)\n",
    "print('duration:', json['duration'])\n",
    "print('recognized:', len(json['recognized_books']))\n",
    "for n, el in enumerate(json['recognized_books'], 1):\n",
    "    print(f'{n}) {el}')"
   ],
   "metadata": {
    "collapsed": false,
    "pycharm": {
     "name": "#%%\n"
    }
   }
  },
  {
   "cell_type": "code",
   "execution_count": null,
   "outputs": [],
   "source": [],
   "metadata": {
    "collapsed": false,
    "pycharm": {
     "name": "#%%\n"
    }
   }
  }
 ],
 "metadata": {
  "kernelspec": {
   "display_name": "Python 3",
   "language": "python",
   "name": "python3"
  },
  "language_info": {
   "codemirror_mode": {
    "name": "ipython",
    "version": 2
   },
   "file_extension": ".py",
   "mimetype": "text/x-python",
   "name": "python",
   "nbconvert_exporter": "python",
   "pygments_lexer": "ipython2",
   "version": "2.7.6"
  }
 },
 "nbformat": 4,
 "nbformat_minor": 0
}