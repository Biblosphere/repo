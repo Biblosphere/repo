{
 "cells": [
  {
   "cell_type": "markdown",
   "metadata": {
    "collapsed": true,
    "pycharm": {
     "name": "#%% md\n"
    }
   },
   "source": [
    "# Rescan photos scripts"
   ]
  },
  {
   "cell_type": "markdown",
   "source": [],
   "metadata": {
    "collapsed": false,
    "pycharm": {
     "name": "#%% md\n"
    }
   }
  },
  {
   "cell_type": "code",
   "execution_count": 1,
   "outputs": [],
   "source": [
    "import time\n",
    "\n",
    "import firebase_admin\n",
    "import mpmath\n",
    "from firebase_admin import credentials\n",
    "from firebase_admin import firestore\n",
    "\n",
    "cred = credentials.Certificate(r\"C:\\!Dev\\projects\\book_detection\\keys\\avea-biblosphere-210106-firebase-adminsdk-s3bjc-ff2c6ac275 (1).json\")\n",
    "firebase_admin.initialize_app(cred)\n",
    "\n",
    "db = firestore.client()"
   ],
   "metadata": {
    "collapsed": false,
    "pycharm": {
     "name": "#%%\n"
    }
   }
  },
  {
   "cell_type": "markdown",
   "source": [
    "#### Not valid photos"
   ],
   "metadata": {
    "collapsed": false,
    "pycharm": {
     "name": "#%% md\n"
    }
   }
  },
  {
   "cell_type": "code",
   "execution_count": 61,
   "outputs": [
    {
     "name": "stdout",
     "output_type": "stream",
     "text": [
      "not valid: 469\n",
      "parameter is missed:\n",
      "\tphoto: 0\n",
      "\treporter: 0\n",
      "\tbookplace: 208\n",
      "\tid: 362\n",
      "\tlocation: 91\n",
      "\turl: 363\n"
     ]
    }
   ],
   "source": [
    "# parameter is missed: photo/reporter/bookplace/id/location/url\n",
    "\n",
    "res = db.collection('photos').where(u'valid', u'==', False).stream()\n",
    "not_valid = set()\n",
    "photos = set()\n",
    "reporters = set()\n",
    "bookplaces = set()\n",
    "ids = set()\n",
    "locations = set()\n",
    "urls = set()\n",
    "for doc in res:\n",
    "    data = doc.to_dict()\n",
    "\n",
    "    not_valid.add(doc.id)\n",
    "    if 'photo' not in data:\n",
    "        photos.add(doc.id)\n",
    "    if 'reporter' not in data:\n",
    "        reporters.add(doc.id)\n",
    "    if 'bookplace' not in data:\n",
    "        bookplaces.add(doc.id)\n",
    "    if 'id' not in data:\n",
    "        ids.add(doc.id)\n",
    "    if 'location' not in data:\n",
    "        locations.add(doc.id)\n",
    "    if 'url' not in data:\n",
    "        urls.add(doc.id)\n",
    "\n",
    "print('not valid:', len(not_valid))\n",
    "print('parameter is missed:')\n",
    "print('\\tphoto:', len(photos))\n",
    "print('\\treporter:', len(reporters))\n",
    "print('\\tbookplace:', len(bookplaces))\n",
    "print('\\tid:', len(ids))\n",
    "print('\\tlocation:', len(locations))\n",
    "print('\\turl:', len(urls))\n",
    "#finded"
   ],
   "metadata": {
    "collapsed": false,
    "pycharm": {
     "name": "#%%\n"
    }
   }
  },
  {
   "cell_type": "code",
   "execution_count": 49,
   "outputs": [
    {
     "name": "stdout",
     "output_type": "stream",
     "text": [
      "records not in stats: 0\n"
     ]
    }
   ],
   "source": [
    "res = db.collection('photos').where(u'recognition_stats.record_in_stats', u'==', False).stream()\n",
    "finded = set()\n",
    "count = 0\n",
    "for doc in res:\n",
    "    finded.add(doc.id)\n",
    "    # update = {'valid': True}\n",
    "    # db.collection('photos').document(doc.id).update(update)\n",
    "    # update = {'valid': False}\n",
    "    # db.collection('photos').document(doc.id).update(update)\n",
    "\n",
    "\n",
    "print('records not in stats:', len(finded))\n",
    "#finded"
   ],
   "metadata": {
    "collapsed": false,
    "pycharm": {
     "name": "#%%\n"
    }
   }
  },
  {
   "cell_type": "code",
   "execution_count": 50,
   "outputs": [
    {
     "name": "stdout",
     "output_type": "stream",
     "text": [
      "status == failed: 22\n"
     ]
    }
   ],
   "source": [
    "res = db.collection('photos').where(u'status', u'==', 'failed').stream()\n",
    "finded = set()\n",
    "for doc in res:\n",
    "    finded.add(doc.id)\n",
    "print('status == failed:', len(finded))\n",
    "#finded"
   ],
   "metadata": {
    "collapsed": false,
    "pycharm": {
     "name": "#%%\n"
    }
   }
  },
  {
   "cell_type": "markdown",
   "source": [
    "#### Photos without block 'recognition_stats'"
   ],
   "metadata": {
    "collapsed": false,
    "pycharm": {
     "name": "#%% md\n"
    }
   }
  },
  {
   "cell_type": "code",
   "execution_count": 53,
   "outputs": [
    {
     "name": "stdout",
     "output_type": "stream",
     "text": [
      "finded 25\n"
     ]
    }
   ],
   "source": [
    "res = db.collection('photos').stream()\n",
    "finded = set()\n",
    "for doc in res:\n",
    "    data = doc.to_dict()\n",
    "    if 'valid' in data and not data['valid']:\n",
    "        continue\n",
    "    if 'recognition_stats' in data:\n",
    "        continue\n",
    "    finded.add(doc.id)\n",
    "\n",
    "print('finded', len(finded))\n",
    "#finded"
   ],
   "metadata": {
    "collapsed": false,
    "pycharm": {
     "name": "#%%\n"
    }
   }
  },
  {
   "cell_type": "markdown",
   "source": [
    "#### Rescan one photo"
   ],
   "metadata": {
    "collapsed": false,
    "pycharm": {
     "name": "#%% md\n"
    }
   }
  },
  {
   "cell_type": "code",
   "execution_count": 43,
   "outputs": [
    {
     "name": "stdout",
     "output_type": "stream",
     "text": [
      "200 OK\n",
      "duration: 0:00:00.057949\n"
     ]
    },
    {
     "ename": "TypeError",
     "evalue": "object of type 'NoneType' has no len()",
     "output_type": "error",
     "traceback": [
      "\u001B[1;31m---------------------------------------------------------------------------\u001B[0m",
      "\u001B[1;31mTypeError\u001B[0m                                 Traceback (most recent call last)",
      "\u001B[1;32m<ipython-input-43-59d7cbbdef41>\u001B[0m in \u001B[0;36m<module>\u001B[1;34m\u001B[0m\n\u001B[0;32m     10\u001B[0m \u001B[0mprint\u001B[0m\u001B[1;33m(\u001B[0m\u001B[0mres\u001B[0m\u001B[1;33m.\u001B[0m\u001B[0mstatus_code\u001B[0m\u001B[1;33m,\u001B[0m \u001B[0mres\u001B[0m\u001B[1;33m.\u001B[0m\u001B[0mreason\u001B[0m\u001B[1;33m)\u001B[0m\u001B[1;33m\u001B[0m\u001B[1;33m\u001B[0m\u001B[0m\n\u001B[0;32m     11\u001B[0m \u001B[0mprint\u001B[0m\u001B[1;33m(\u001B[0m\u001B[1;34m'duration:'\u001B[0m\u001B[1;33m,\u001B[0m \u001B[0mjson\u001B[0m\u001B[1;33m[\u001B[0m\u001B[1;34m'duration'\u001B[0m\u001B[1;33m]\u001B[0m\u001B[1;33m)\u001B[0m\u001B[1;33m\u001B[0m\u001B[1;33m\u001B[0m\u001B[0m\n\u001B[1;32m---> 12\u001B[1;33m \u001B[0mprint\u001B[0m\u001B[1;33m(\u001B[0m\u001B[1;34m'recognized:'\u001B[0m\u001B[1;33m,\u001B[0m \u001B[0mlen\u001B[0m\u001B[1;33m(\u001B[0m\u001B[0mjson\u001B[0m\u001B[1;33m[\u001B[0m\u001B[1;34m'recognized_books'\u001B[0m\u001B[1;33m]\u001B[0m\u001B[1;33m)\u001B[0m\u001B[1;33m)\u001B[0m\u001B[1;33m\u001B[0m\u001B[1;33m\u001B[0m\u001B[0m\n\u001B[0m\u001B[0;32m     13\u001B[0m \u001B[1;32mfor\u001B[0m \u001B[0mn\u001B[0m\u001B[1;33m,\u001B[0m \u001B[0mel\u001B[0m \u001B[1;32min\u001B[0m \u001B[0menumerate\u001B[0m\u001B[1;33m(\u001B[0m\u001B[0mjson\u001B[0m\u001B[1;33m[\u001B[0m\u001B[1;34m'recognized_books'\u001B[0m\u001B[1;33m]\u001B[0m\u001B[1;33m,\u001B[0m \u001B[1;36m1\u001B[0m\u001B[1;33m)\u001B[0m\u001B[1;33m:\u001B[0m\u001B[1;33m\u001B[0m\u001B[1;33m\u001B[0m\u001B[0m\n\u001B[0;32m     14\u001B[0m     \u001B[0mprint\u001B[0m\u001B[1;33m(\u001B[0m\u001B[1;34mf'{n}) {el}'\u001B[0m\u001B[1;33m)\u001B[0m\u001B[1;33m\u001B[0m\u001B[1;33m\u001B[0m\u001B[0m\n",
      "\u001B[1;31mTypeError\u001B[0m: object of type 'NoneType' has no len()"
     ]
    }
   ],
   "source": [
    "import requests\n",
    "photo_id = '023YA6RIB7A3boAmZBOq'\n",
    "url = 'https://us-central1-biblosphere-210106.cloudfunctions.net/rescan_photo'\n",
    "\n",
    "doc = db.collection('photos').document(photo_id).get()\n",
    "data = doc.to_dict()\n",
    "\n",
    "res = requests.post(url, json={'photo_id': photo_id})\n",
    "json = res.json()\n",
    "print(res.status_code, res.reason)\n",
    "print('duration:', json['duration'])\n",
    "print('recognized:', len(json['recognized_books']))\n",
    "for n, el in enumerate(json['recognized_books'], 1):\n",
    "    print(f'{n}) {el}')"
   ],
   "metadata": {
    "collapsed": false,
    "pycharm": {
     "name": "#%%\n"
    }
   }
  },
  {
   "cell_type": "markdown",
   "source": [
    "#### Rescan several photos"
   ],
   "metadata": {
    "collapsed": false,
    "pycharm": {
     "name": "#%% md\n"
    }
   }
  },
  {
   "cell_type": "code",
   "execution_count": 30,
   "outputs": [
    {
     "name": "stdout",
     "output_type": "stream",
     "text": [
      "1) Rescaning photo: 2sbdY7e3VD8hIVcoeh1s\n",
      "duration: 0:00:27.369074, recognized: 0(10)\n",
      "\n",
      "2) Rescaning photo: 3W82C9BUmTxM7D0agG2q\n",
      "duration: 0:00:22.247033, recognized: 0(0)\n",
      "\n"
     ]
    }
   ],
   "source": [
    "import requests\n",
    "url = 'https://us-central1-biblosphere-210106.cloudfunctions.net/rescan_photo'\n",
    "batch_size = 2\n",
    "\n",
    "res = db.collection('photos').stream()\n",
    "count = 1\n",
    "for doc in res:\n",
    "    if count > batch_size:\n",
    "        break\n",
    "\n",
    "    data = doc.to_dict()\n",
    "    if 'valid' in data and not data['valid']:\n",
    "        continue\n",
    "    if 'recognition_stats' in data:\n",
    "        continue\n",
    "\n",
    "    print(f'{count}) Rescaning photo: {doc.id}')\n",
    "\n",
    "    if not data.keys() >= {'photo', 'reporter', 'bookplace', 'id', 'location', 'url'}:\n",
    "        print('ERROR: photo/reporter/bookplace/id/location/url parameters missing.', doc.id, '\\n')\n",
    "        update = {'valid': False}\n",
    "        db.collection('photos').document(doc.id).update(update)\n",
    "        continue\n",
    "\n",
    "    old_recognized = data['recognized'] if 'recognized' in data else 0\n",
    "    res = requests.post(url, json={'photo_id': doc.id})\n",
    "    json = res.json()\n",
    "    print(f\"duration: {json['duration']}, recognized: {len(json['recognized_books'])}({old_recognized})\\n\")\n",
    "\n",
    "    count += 1"
   ],
   "metadata": {
    "collapsed": false,
    "pycharm": {
     "name": "#%%\n"
    }
   }
  },
  {
   "cell_type": "markdown",
   "source": [
    "#### Rescan several photos (threads)"
   ],
   "metadata": {
    "collapsed": false,
    "pycharm": {
     "name": "#%% md\n"
    }
   }
  },
  {
   "cell_type": "code",
   "execution_count": 45,
   "outputs": [],
   "source": [
    "import numpy as np\n",
    "import time\n",
    "\n",
    "def fill_array(size):\n",
    "    res = db.collection('photos').stream()\n",
    "    result = []\n",
    "    count = 1\n",
    "    for doc in res:\n",
    "\n",
    "        if count > batch_size * threads:\n",
    "            break\n",
    "\n",
    "        data = doc.to_dict()\n",
    "        if 'valid' in data and not data['valid']:\n",
    "            continue\n",
    "        if 'recognition_stats' in data:\n",
    "            continue\n",
    "\n",
    "        if not data.keys() >= {'photo', 'reporter', 'bookplace', 'id', 'location', 'url'}:\n",
    "            print('ERROR: photo/reporter/bookplace/id/location/url parameters missing.', doc.id, '\\n')\n",
    "            update = {'valid': False}\n",
    "            db.collection('photos').document(doc.id).update(update)\n",
    "            continue\n",
    "        result.append(doc.id)\n",
    "        count += 1\n",
    "\n",
    "    return result\n",
    "\n",
    "\n",
    "def rescan_in_thread(name: str, photo_ids: list):\n",
    "    url = 'https://us-central1-biblosphere-210106.cloudfunctions.net/rescan_photo'\n",
    "    for n, id in enumerate(photo_ids):\n",
    "        print(f'{name}: {n+1}) scanning photo: {id}')\n",
    "        res = requests.post(url, json={'photo_id': id})\n",
    "        print(res.status_code)\n",
    "\n"
   ],
   "metadata": {
    "collapsed": false,
    "pycharm": {
     "name": "#%%\n"
    }
   }
  },
  {
   "cell_type": "code",
   "execution_count": 52,
   "outputs": [
    {
     "name": "stdout",
     "output_type": "stream",
     "text": [
      "--- preparing photo ids ---\n",
      "photos: 20 \n",
      "\n",
      "---starting threads ---\n",
      "thread_0: 1) scanning photo: 3NXpOnCp0gq62pxQmxRE\n",
      "thread_1: 1) scanning photo: 7ov4FV2ixBO98jw3RQDT\n",
      "thread_2: 1) scanning photo: BC819A7J9qv3hioMGaoK\n",
      "thread_3: 1) scanning photo: JwI8jqh0VX2pH8tNKW8E\n",
      "thread_4: 1) scanning photo: NvmuSTVtdqcosETeFURk\n",
      "thread_5: 1) scanning photo: YHuXF8jOkKpmB7WkN2t4\n",
      "thread_6: 1) scanning photo: cU1K2ip0eQe6U8chzpjg\n",
      "thread_7: 1) scanning photo: fMwyBKODipSZ15cts9kl\n",
      "thread_8: 1) scanning photo: iVM36GWVT5gSpHYkUvxm\n",
      "thread_9: 1) scanning photo: nIZ4fVF7LEnzLLMDSGDR\n",
      "200\n",
      "thread_0: 2) scanning photo: 3s6Am4UxI1EAT8JzHplv\n",
      "200\n",
      "thread_2: 2) scanning photo: HPsk4sqTq2YSjqW5FzUX\n",
      "200\n",
      "thread_6: 2) scanning photo: e79opeRXT5jMVHk1mTVJ\n",
      "200\n",
      "thread_7: 2) scanning photo: gkH8OMD2OjqLVwSWwsNI\n",
      "200\n",
      "200\n",
      "thread_8: 2) scanning photo: m8WzALslkDuriCWgztYf\n",
      "200\n",
      "200\n",
      "200\n",
      "thread_4: 2) scanning photo: WmOFpQlRTZtSZPzAUf50\n",
      "200\n",
      "200\n",
      "200\n",
      "thread_1: 2) scanning photo: 89WCVEWsvMP2CaXoWYGw\n",
      "200\n",
      "thread_9: 2) scanning photo: nb2YmhI43vaDGa2tPhBq\n",
      "200\n",
      "200\n",
      "thread_5: 2) scanning photo: ZZ3tvctNHdzBxoLNtucG\n",
      "200\n",
      "200\n",
      "200\n",
      "thread_3: 2) scanning photo: LxriX9M8cHCCEBvpU0zS\n",
      "200\n",
      "200\n",
      "---finish----\n",
      "Wall time: 28.5 s\n"
     ]
    }
   ],
   "source": [
    "%%time\n",
    "\n",
    "import requests\n",
    "from threading import Thread\n",
    "\n",
    "batch_size = 2\n",
    "threads = 10\n",
    "\n",
    "print('--- preparing photo ids ---')\n",
    "ids = fill_array(batch_size * threads)\n",
    "print(f'photos: {len(ids)} \\n')\n",
    "\n",
    "print('---starting threads ---')\n",
    "threads_list = []\n",
    "for i in range(threads):\n",
    "    start_ind = i * batch_size\n",
    "    end_ind = start_ind + batch_size\n",
    "    thread = Thread(target=rescan_in_thread, args=(f'thread_{i}', ids[start_ind:end_ind]))\n",
    "    thread.start()\n",
    "    threads_list.append(thread)\n",
    "\n",
    "for thread in threads_list:\n",
    "    thread.join()\n",
    "\n",
    "print('---finish----')"
   ],
   "metadata": {
    "collapsed": false,
    "pycharm": {
     "name": "#%%\n"
    }
   }
  },
  {
   "cell_type": "code",
   "execution_count": null,
   "outputs": [],
   "source": [],
   "metadata": {
    "collapsed": false,
    "pycharm": {
     "name": "#%%\n"
    }
   }
  },
  {
   "cell_type": "code",
   "execution_count": null,
   "outputs": [],
   "source": [],
   "metadata": {
    "collapsed": false,
    "pycharm": {
     "name": "#%%\n"
    }
   }
  },
  {
   "cell_type": "code",
   "execution_count": 7,
   "outputs": [
    {
     "name": "stdout",
     "output_type": "stream",
     "text": [
      "https://firebasestorage.googleapis.com/v0/b/biblosphere-210106.appspot.com/o/images%2FPChIJuxcSoobjoI8R1I9kKQU4n9w%2F1611266267833.jpg?alt=media&token=915ab76c-f645-44b5-a28f-6b5f688015fb\n"
     ]
    }
   ],
   "source": [
    "from PIL import Image\n",
    "import requests\n",
    "from io import BytesIO\n",
    "\n",
    "photo_id = '2sbdY7e3VD8hIVcoeh1s'\n",
    "\n",
    "doc = db.collection('photos').document(photo_id).get()\n",
    "data = doc.to_dict()\n",
    "print(data['url'])\n",
    "response = requests.get(data['url'])\n",
    "#response.content\n",
    "img = Image.open(BytesIO(response.content))\n",
    "img.show()"
   ],
   "metadata": {
    "collapsed": false,
    "pycharm": {
     "name": "#%%\n"
    }
   }
  },
  {
   "cell_type": "code",
   "execution_count": 64,
   "outputs": [
    {
     "data": {
      "text/plain": "{'recognition_stats': {'record_in_stats': True,\n  'date': '2021-9-30',\n  'detectron_find_books': 27,\n  'duration': 22489409,\n  'known_books': 3059977,\n  'algorithm': 'Detectron build 1.0.1 (2021-09-30)'},\n 'count': 7,\n 'bookplace': 'PChIJuxcSoobjoI8R1I9kKQU4n9w',\n 'recognized': 7,\n 'status': 'recognized',\n 'total': 17,\n 'reporter': 'Syiru36ehIglQqOk2wNpgpNqG982',\n 'url': 'https://firebasestorage.googleapis.com/v0/b/biblosphere-210106.appspot.com/o/images%2FPChIJuxcSoobjoI8R1I9kKQU4n9w%2F1611266267833.jpg?alt=media&token=915ab76c-f645-44b5-a28f-6b5f688015fb',\n 'id': '2sbdY7e3VD8hIVcoeh1s',\n 'location': {'geopoint': <google.cloud.firestore_v1._helpers.GeoPoint at 0x16ac5b7cf10>,\n  'geohash': 'd1u0x26gp2s0'},\n 'thumbnail': 'https://storage.googleapis.com/biblosphere-210106.appspot.com/thumbnails/PChIJuxcSoobjoI8R1I9kKQU4n9w/1611266267833.jpg',\n 'photo': 'images/PChIJuxcSoobjoI8R1I9kKQU4n9w/1611266267833.jpg'}"
     },
     "execution_count": 64,
     "metadata": {},
     "output_type": "execute_result"
    }
   ],
   "source": [
    "photo_id = '2sbdY7e3VD8hIVcoeh1s'\n",
    "doc = db.collection('photos').document(photo_id).get()\n",
    "data = doc.to_dict()\n",
    "data"
   ],
   "metadata": {
    "collapsed": false,
    "pycharm": {
     "name": "#%%\n"
    }
   }
  },
  {
   "cell_type": "code",
   "execution_count": 75,
   "outputs": [
    {
     "data": {
      "text/plain": "update_time {\n  seconds: 1632503203\n  nanos: 298959000\n}"
     },
     "execution_count": 75,
     "metadata": {},
     "output_type": "execute_result"
    }
   ],
   "source": [
    "photo_id = '3s6Am4UxI1EAT8JzHplv'\n",
    "update = {'valid': False}\n",
    "db.collection('photos').document(photo_id).update(update)"
   ],
   "metadata": {
    "collapsed": false,
    "pycharm": {
     "name": "#%%\n"
    }
   }
  },
  {
   "cell_type": "code",
   "execution_count": 44,
   "outputs": [],
   "source": [],
   "metadata": {
    "collapsed": false,
    "pycharm": {
     "name": "#%%\n"
    }
   }
  },
  {
   "cell_type": "code",
   "execution_count": null,
   "outputs": [],
   "source": [],
   "metadata": {
    "collapsed": false,
    "pycharm": {
     "name": "#%%\n"
    }
   }
  }
 ],
 "metadata": {
  "kernelspec": {
   "display_name": "Python 3",
   "language": "python",
   "name": "python3"
  },
  "language_info": {
   "codemirror_mode": {
    "name": "ipython",
    "version": 2
   },
   "file_extension": ".py",
   "mimetype": "text/x-python",
   "name": "python",
   "nbconvert_exporter": "python",
   "pygments_lexer": "ipython2",
   "version": "2.7.6"
  }
 },
 "nbformat": 4,
 "nbformat_minor": 0
}