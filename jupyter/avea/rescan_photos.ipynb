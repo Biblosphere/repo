{
 "cells": [
  {
   "cell_type": "markdown",
   "metadata": {
    "collapsed": true,
    "pycharm": {
     "name": "#%% md\n"
    }
   },
   "source": [
    "# Rescan photos scripts"
   ]
  },
  {
   "cell_type": "markdown",
   "source": [],
   "metadata": {
    "collapsed": false,
    "pycharm": {
     "name": "#%% md\n"
    }
   }
  },
  {
   "cell_type": "code",
   "execution_count": 1,
   "outputs": [],
   "source": [
    "import time\n",
    "\n",
    "import firebase_admin\n",
    "import mpmath\n",
    "from firebase_admin import credentials\n",
    "from firebase_admin import firestore\n",
    "\n",
    "cred = credentials.Certificate(r\"C:\\!Dev\\projects\\book_detection\\keys\\avea-biblosphere-210106-firebase-adminsdk-s3bjc-ff2c6ac275 (1).json\")\n",
    "firebase_admin.initialize_app(cred)\n",
    "\n",
    "db = firestore.client()"
   ],
   "metadata": {
    "collapsed": false,
    "pycharm": {
     "name": "#%%\n"
    }
   }
  },
  {
   "cell_type": "markdown",
   "source": [
    "#### Not valid photos"
   ],
   "metadata": {
    "collapsed": false,
    "pycharm": {
     "name": "#%% md\n"
    }
   }
  },
  {
   "cell_type": "code",
   "execution_count": 7,
   "outputs": [
    {
     "name": "stdout",
     "output_type": "stream",
     "text": [
      "not valid: 95\n"
     ]
    }
   ],
   "source": [
    "res = db.collection('photos').where(u'valid', u'==', False).stream()\n",
    "finded = set()\n",
    "for doc in res:\n",
    "    finded.add(doc.id)\n",
    "print('not valid:', len(finded))\n",
    "#finded"
   ],
   "metadata": {
    "collapsed": false,
    "pycharm": {
     "name": "#%%\n"
    }
   }
  },
  {
   "cell_type": "code",
   "execution_count": 6,
   "outputs": [
    {
     "name": "stdout",
     "output_type": "stream",
     "text": [
      "records not in stats: 0\n"
     ]
    }
   ],
   "source": [
    "res = db.collection('photos').where(u'recognition_stats.record_in_stats', u'==', False).stream()\n",
    "finded = set()\n",
    "count = 0\n",
    "for doc in res:\n",
    "    finded.add(doc.id)\n",
    "    # update = {'valid': True}\n",
    "    # db.collection('photos').document(doc.id).update(update)\n",
    "    # update = {'valid': False}\n",
    "    # db.collection('photos').document(doc.id).update(update)\n",
    "\n",
    "\n",
    "print('records not in stats:', len(finded))\n",
    "#finded"
   ],
   "metadata": {
    "collapsed": false,
    "pycharm": {
     "name": "#%%\n"
    }
   }
  },
  {
   "cell_type": "code",
   "execution_count": 5,
   "outputs": [
    {
     "name": "stdout",
     "output_type": "stream",
     "text": [
      "status == failed: 144\n"
     ]
    }
   ],
   "source": [
    "res = db.collection('photos').where(u'status', u'==', 'failed').stream()\n",
    "finded = set()\n",
    "for doc in res:\n",
    "    finded.add(doc.id)\n",
    "print('status == failed:', len(finded))\n",
    "#finded"
   ],
   "metadata": {
    "collapsed": false,
    "pycharm": {
     "name": "#%%\n"
    }
   }
  },
  {
   "cell_type": "markdown",
   "source": [
    "#### Photos without block 'recognition_stats'"
   ],
   "metadata": {
    "collapsed": false,
    "pycharm": {
     "name": "#%% md\n"
    }
   }
  },
  {
   "cell_type": "code",
   "execution_count": 10,
   "outputs": [
    {
     "name": "stdout",
     "output_type": "stream",
     "text": [
      "finded 1138\n"
     ]
    }
   ],
   "source": [
    "res = db.collection('photos').stream()\n",
    "finded = set()\n",
    "for doc in res:\n",
    "    data = doc.to_dict()\n",
    "    if 'valid' in data and not data['valid']:\n",
    "        continue\n",
    "    if 'recognition_stats' in data:\n",
    "        continue\n",
    "    finded.add(doc.id)\n",
    "\n",
    "print('finded', len(finded))\n",
    "#finded"
   ],
   "metadata": {
    "collapsed": false,
    "pycharm": {
     "name": "#%%\n"
    }
   }
  },
  {
   "cell_type": "markdown",
   "source": [
    "#### Rescan one photo"
   ],
   "metadata": {
    "collapsed": false,
    "pycharm": {
     "name": "#%% md\n"
    }
   }
  },
  {
   "cell_type": "code",
   "execution_count": 25,
   "outputs": [
    {
     "name": "stdout",
     "output_type": "stream",
     "text": [
      "200 OK\n",
      "duration: 0:00:26.506920\n",
      "recognized: 1\n",
      "1) 9780812039214 Albert Einstein and the Theory of Relativity (Barrons Solution Series) Robert Cwiklik\n"
     ]
    }
   ],
   "source": [
    "import requests\n",
    "photo_id = '3W82C9BUmTxM7D0agG2q'\n",
    "url = 'https://us-central1-biblosphere-210106.cloudfunctions.net/rescan_photo'\n",
    "\n",
    "doc = db.collection('photos').document(photo_id).get()\n",
    "data = doc.to_dict()\n",
    "\n",
    "res = requests.post(url, json={'photo_id': photo_id})\n",
    "json = res.json()\n",
    "print(res.status_code, res.reason)\n",
    "print('duration:', json['duration'])\n",
    "print('recognized:', len(json['recognized_books']))\n",
    "for n, el in enumerate(json['recognized_books'], 1):\n",
    "    print(f'{n}) {el}')"
   ],
   "metadata": {
    "collapsed": false,
    "pycharm": {
     "name": "#%%\n"
    }
   }
  },
  {
   "cell_type": "markdown",
   "source": [
    "#### Rescan several photos"
   ],
   "metadata": {
    "collapsed": false,
    "pycharm": {
     "name": "#%% md\n"
    }
   }
  },
  {
   "cell_type": "code",
   "execution_count": 30,
   "outputs": [
    {
     "name": "stdout",
     "output_type": "stream",
     "text": [
      "1) Rescaning photo: 2sbdY7e3VD8hIVcoeh1s\n",
      "duration: 0:00:27.369074, recognized: 0(10)\n",
      "\n",
      "2) Rescaning photo: 3W82C9BUmTxM7D0agG2q\n",
      "duration: 0:00:22.247033, recognized: 0(0)\n",
      "\n"
     ]
    }
   ],
   "source": [
    "import requests\n",
    "url = 'https://us-central1-biblosphere-210106.cloudfunctions.net/rescan_photo'\n",
    "batch_size = 2\n",
    "\n",
    "res = db.collection('photos').stream()\n",
    "count = 1\n",
    "for doc in res:\n",
    "    if count > batch_size:\n",
    "        break\n",
    "\n",
    "    data = doc.to_dict()\n",
    "    if 'valid' in data and not data['valid']:\n",
    "        continue\n",
    "    if 'recognition_stats' in data:\n",
    "        continue\n",
    "\n",
    "    print(f'{count}) Rescaning photo: {doc.id}')\n",
    "\n",
    "    if not data.keys() >= {'photo', 'reporter', 'bookplace', 'id', 'location', 'url'}:\n",
    "        print('ERROR: photo/reporter/bookplace/id/location/url parameters missing.', doc.id, '\\n')\n",
    "        update = {'valid': False}\n",
    "        db.collection('photos').document(doc.id).update(update)\n",
    "        continue\n",
    "\n",
    "    old_recognized = data['recognized'] if 'recognized' in data else 0\n",
    "    res = requests.post(url, json={'photo_id': doc.id})\n",
    "    json = res.json()\n",
    "    print(f\"duration: {json['duration']}, recognized: {len(json['recognized_books'])}({old_recognized})\\n\")\n",
    "\n",
    "    count += 1"
   ],
   "metadata": {
    "collapsed": false,
    "pycharm": {
     "name": "#%%\n"
    }
   }
  },
  {
   "cell_type": "markdown",
   "source": [
    "#### Rescan several photos (threads)"
   ],
   "metadata": {
    "collapsed": false,
    "pycharm": {
     "name": "#%% md\n"
    }
   }
  },
  {
   "cell_type": "code",
   "execution_count": 3,
   "outputs": [],
   "source": [
    "import numpy as np\n",
    "import time\n",
    "\n",
    "def fill_array(size):\n",
    "    res = db.collection('photos').stream()\n",
    "    result = []\n",
    "    count = 1\n",
    "    for doc in res:\n",
    "\n",
    "        if count > batch_size * threads:\n",
    "            break\n",
    "\n",
    "        data = doc.to_dict()\n",
    "        if 'valid' in data and not data['valid']:\n",
    "            continue\n",
    "        if 'recognition_stats' in data:\n",
    "            continue\n",
    "\n",
    "        if not data.keys() >= {'photo', 'reporter', 'bookplace', 'id', 'location', 'url'}:\n",
    "            print('ERROR: photo/reporter/bookplace/id/location/url parameters missing.', doc.id, '\\n')\n",
    "            update = {'valid': False}\n",
    "            db.collection('photos').document(doc.id).update(update)\n",
    "            continue\n",
    "        result.append(doc.id)\n",
    "        count += 1\n",
    "\n",
    "    return result\n",
    "\n",
    "\n",
    "def rescan_in_thread(name: str, photo_ids: list):\n",
    "    url = 'https://us-central1-biblosphere-210106.cloudfunctions.net/rescan_photo'\n",
    "    for n, id in enumerate(photo_ids):\n",
    "        print(f'{name}: {n+1}) scanning photo: {id}')\n",
    "        res = requests.post(url, json={'photo_id': id})\n",
    "        print(res.status_code)\n",
    "\n"
   ],
   "metadata": {
    "collapsed": false,
    "pycharm": {
     "name": "#%%\n"
    }
   }
  },
  {
   "cell_type": "code",
   "execution_count": 4,
   "outputs": [
    {
     "name": "stdout",
     "output_type": "stream",
     "text": [
      "--- preparing photo ids ---\n",
      "ERROR: photo/reporter/bookplace/id/location/url parameters missing. 8Rog0PGHTmCMbBYttBFV \n",
      "\n",
      "ERROR: photo/reporter/bookplace/id/location/url parameters missing. 8eb77vVcHm5M4GLNV7yA \n",
      "\n",
      "photos: 6 \n",
      "\n",
      "---starting threads ---\n",
      "thread_0: 1) scanning photo: 7MpISTN2OS1Q7l0cH1Pa\n",
      "thread_1: 1) scanning photo: 8SuxFxlnZkN0cq7yeonG\n",
      "200\n",
      "thread_0: 2) scanning photo: 7ov4FV2ixBO98jw3RQDT\n",
      "200\n",
      "thread_0: 3) scanning photo: 89WCVEWsvMP2CaXoWYGw\n",
      "200\n",
      "200\n",
      "thread_1: 2) scanning photo: 8UGrloIEXDP776knW1sC\n",
      "200\n",
      "thread_1: 3) scanning photo: 8ehUapMrlf6uZy4dWWNH\n",
      "503\n",
      "---finish----\n",
      "Wall time: 1min 31s\n"
     ]
    }
   ],
   "source": [
    "%%time\n",
    "\n",
    "import requests\n",
    "from threading import Thread\n",
    "\n",
    "batch_size = 3\n",
    "threads = 2\n",
    "\n",
    "print('--- preparing photo ids ---')\n",
    "ids = fill_array(batch_size * threads)\n",
    "print(f'photos: {len(ids)} \\n')\n",
    "\n",
    "print('---starting threads ---')\n",
    "threads_list = []\n",
    "for i in range(threads):\n",
    "    start_ind = i * batch_size\n",
    "    end_ind = start_ind + batch_size\n",
    "    thread = Thread(target=rescan_in_thread, args=(f'thread_{i}', ids[start_ind:end_ind]))\n",
    "    thread.start()\n",
    "    threads_list.append(thread)\n",
    "\n",
    "for thread in threads_list:\n",
    "    thread.join()\n",
    "\n",
    "print('---finish----')"
   ],
   "metadata": {
    "collapsed": false,
    "pycharm": {
     "name": "#%%\n"
    }
   }
  },
  {
   "cell_type": "code",
   "execution_count": null,
   "outputs": [],
   "source": [],
   "metadata": {
    "collapsed": false,
    "pycharm": {
     "name": "#%%\n"
    }
   }
  },
  {
   "cell_type": "code",
   "execution_count": null,
   "outputs": [],
   "source": [],
   "metadata": {
    "collapsed": false,
    "pycharm": {
     "name": "#%%\n"
    }
   }
  },
  {
   "cell_type": "code",
   "execution_count": 7,
   "outputs": [
    {
     "name": "stdout",
     "output_type": "stream",
     "text": [
      "https://firebasestorage.googleapis.com/v0/b/biblosphere-210106.appspot.com/o/images%2FPChIJuxcSoobjoI8R1I9kKQU4n9w%2F1611266267833.jpg?alt=media&token=915ab76c-f645-44b5-a28f-6b5f688015fb\n"
     ]
    }
   ],
   "source": [
    "from PIL import Image\n",
    "import requests\n",
    "from io import BytesIO\n",
    "\n",
    "photo_id = '2sbdY7e3VD8hIVcoeh1s'\n",
    "\n",
    "doc = db.collection('photos').document(photo_id).get()\n",
    "data = doc.to_dict()\n",
    "print(data['url'])\n",
    "response = requests.get(data['url'])\n",
    "#response.content\n",
    "img = Image.open(BytesIO(response.content))\n",
    "img.show()"
   ],
   "metadata": {
    "collapsed": false,
    "pycharm": {
     "name": "#%%\n"
    }
   }
  },
  {
   "cell_type": "code",
   "execution_count": 22,
   "outputs": [
    {
     "data": {
      "text/plain": "{'total': 31,\n 'location': {'geohash': 'd1u0x26gp2s0',\n  'geopoint': <google.cloud.firestore_v1._helpers.GeoPoint at 0x25691990940>},\n 'bookplace': 'PChIJuxcSoobjoI8R1I9kKQU4n9w',\n 'recognized': 10,\n 'reporter': 'Syiru36ehIglQqOk2wNpgpNqG982',\n 'photo': 'images/PChIJuxcSoobjoI8R1I9kKQU4n9w/1611266267833.jpg',\n 'id': '2sbdY7e3VD8hIVcoeh1s',\n 'count': 7,\n 'url': 'https://firebasestorage.googleapis.com/v0/b/biblosphere-210106.appspot.com/o/images%2FPChIJuxcSoobjoI8R1I9kKQU4n9w%2F1611266267833.jpg?alt=media&token=915ab76c-f645-44b5-a28f-6b5f688015fb',\n 'status': 'failed',\n 'thumbnail': 'https://storage.googleapis.com/biblosphere-210106.appspot.com/thumbnails/PChIJuxcSoobjoI8R1I9kKQU4n9w/1611266267833.jpg'}"
     },
     "execution_count": 22,
     "metadata": {},
     "output_type": "execute_result"
    }
   ],
   "source": [
    "photo_id = '2sbdY7e3VD8hIVcoeh1s'\n",
    "doc = db.collection('photos').document(photo_id).get()\n",
    "data = doc.to_dict()\n",
    "data"
   ],
   "metadata": {
    "collapsed": false,
    "pycharm": {
     "name": "#%%\n"
    }
   }
  },
  {
   "cell_type": "code",
   "execution_count": 75,
   "outputs": [
    {
     "data": {
      "text/plain": "update_time {\n  seconds: 1632503203\n  nanos: 298959000\n}"
     },
     "execution_count": 75,
     "metadata": {},
     "output_type": "execute_result"
    }
   ],
   "source": [
    "photo_id = '3s6Am4UxI1EAT8JzHplv'\n",
    "update = {'valid': False}\n",
    "db.collection('photos').document(photo_id).update(update)"
   ],
   "metadata": {
    "collapsed": false,
    "pycharm": {
     "name": "#%%\n"
    }
   }
  },
  {
   "cell_type": "code",
   "execution_count": null,
   "outputs": [],
   "source": [],
   "metadata": {
    "collapsed": false,
    "pycharm": {
     "name": "#%%\n"
    }
   }
  }
 ],
 "metadata": {
  "kernelspec": {
   "display_name": "Python 3",
   "language": "python",
   "name": "python3"
  },
  "language_info": {
   "codemirror_mode": {
    "name": "ipython",
    "version": 2
   },
   "file_extension": ".py",
   "mimetype": "text/x-python",
   "name": "python",
   "nbconvert_exporter": "python",
   "pygments_lexer": "ipython2",
   "version": "2.7.6"
  }
 },
 "nbformat": 4,
 "nbformat_minor": 0
}