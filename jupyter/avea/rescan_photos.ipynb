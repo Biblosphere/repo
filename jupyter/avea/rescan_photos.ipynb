{
 "cells": [
  {
   "cell_type": "markdown",
   "metadata": {
    "collapsed": true,
    "pycharm": {
     "name": "#%% md\n"
    }
   },
   "source": [
    "# Rescan photos scripts"
   ]
  },
  {
   "cell_type": "markdown",
   "source": [],
   "metadata": {
    "collapsed": false,
    "pycharm": {
     "name": "#%% md\n"
    }
   }
  },
  {
   "cell_type": "code",
   "execution_count": 1,
   "outputs": [],
   "source": [
    "import firebase_admin\n",
    "from firebase_admin import credentials\n",
    "from firebase_admin import firestore\n",
    "\n",
    "cred = credentials.Certificate(r\"C:\\!Dev\\projects\\book_detection\\keys\\avea-biblosphere-210106-firebase-adminsdk-s3bjc-ff2c6ac275 (1).json\")\n",
    "firebase_admin.initialize_app(cred)\n",
    "\n",
    "db = firestore.client()"
   ],
   "metadata": {
    "collapsed": false,
    "pycharm": {
     "name": "#%%\n"
    }
   }
  },
  {
   "cell_type": "markdown",
   "source": [
    "#### Not valid photos"
   ],
   "metadata": {
    "collapsed": false,
    "pycharm": {
     "name": "#%% md\n"
    }
   }
  },
  {
   "cell_type": "code",
   "execution_count": 66,
   "outputs": [
    {
     "name": "stdout",
     "output_type": "stream",
     "text": [
      "not valid: 23\n"
     ]
    }
   ],
   "source": [
    "res = db.collection('photos').where(u'valid', u'==', False).stream()\n",
    "finded = set()\n",
    "for doc in res:\n",
    "    finded.add(doc.id)\n",
    "print('not valid:', len(finded))\n",
    "#finded"
   ],
   "metadata": {
    "collapsed": false,
    "pycharm": {
     "name": "#%%\n"
    }
   }
  },
  {
   "cell_type": "markdown",
   "source": [
    "#### Photos without block 'recognition_stats'"
   ],
   "metadata": {
    "collapsed": false,
    "pycharm": {
     "name": "#%% md\n"
    }
   }
  },
  {
   "cell_type": "code",
   "execution_count": 67,
   "outputs": [
    {
     "name": "stdout",
     "output_type": "stream",
     "text": [
      "finded 1210\n"
     ]
    }
   ],
   "source": [
    "res = db.collection('photos').stream()\n",
    "finded = set()\n",
    "for doc in res:\n",
    "    data = doc.to_dict()\n",
    "    if 'valid' in data and not data['valid']:\n",
    "        continue\n",
    "    if 'recognition_stats' in data:\n",
    "        continue\n",
    "    finded.add(doc.id)\n",
    "\n",
    "print('finded', len(finded))\n",
    "#finded"
   ],
   "metadata": {
    "collapsed": false,
    "pycharm": {
     "name": "#%%\n"
    }
   }
  },
  {
   "cell_type": "markdown",
   "source": [
    "#### Rescan one photo"
   ],
   "metadata": {
    "collapsed": false,
    "pycharm": {
     "name": "#%% md\n"
    }
   }
  },
  {
   "cell_type": "code",
   "execution_count": 2,
   "outputs": [
    {
     "name": "stdout",
     "output_type": "stream",
     "text": [
      "200 OK\n",
      "duration: 0:00:37.836561\n",
      "recognized: 1\n",
      "1) 5936305376 Краткая история русского балета / Борис Бланков. - Санкт-Петербург : ДЕАН, 2006- (СПб. : ИПК Бионт). - 24 см.\n",
      "Кн. 1. - 2006 (СПб. : ИПК Бионт). - 239 с. : ил., портр.; ISBN 5-93630-537-6 Бланков, Борис Владимирович.\n"
     ]
    }
   ],
   "source": [
    "import requests\n",
    "photo_id = '2KnBHTin3PzNfdAnGmPm'\n",
    "url = 'https://us-central1-biblosphere-210106.cloudfunctions.net/rescan_photo'\n",
    "\n",
    "doc = db.collection('photos').document(photo_id).get()\n",
    "data = doc.to_dict()\n",
    "\n",
    "res = requests.post(url, json={'photo_id': photo_id})\n",
    "json = res.json()\n",
    "print(res.status_code, res.reason)\n",
    "print('duration:', json['duration'])\n",
    "print('recognized:', len(json['recognized_books']))\n",
    "for n, el in enumerate(json['recognized_books'], 1):\n",
    "    print(f'{n}) {el}')"
   ],
   "metadata": {
    "collapsed": false,
    "pycharm": {
     "name": "#%%\n"
    }
   }
  },
  {
   "cell_type": "code",
   "execution_count": 76,
   "outputs": [
    {
     "name": "stdout",
     "output_type": "stream",
     "text": [
      "1) Rescaning photo: 2sbdY7e3VD8hIVcoeh1s\n",
      "duration: 0:00:26.693543, recognized: 0(10)\n",
      "\n",
      "2) Rescaning photo: 3W82C9BUmTxM7D0agG2q\n",
      "duration: 0:00:23.077055, recognized: 0(0)\n",
      "\n",
      "3) Rescaning photo: 3wMRdfSiaVY3shVKcegp\n",
      "ERROR: photo/reporter/bookplace/id/location/url parameters missing. 3wMRdfSiaVY3shVKcegp \n",
      "\n",
      "3) Rescaning photo: 3wfqTgvP6txKNYy37DdG\n",
      "ERROR: photo/reporter/bookplace/id/location/url parameters missing. 3wfqTgvP6txKNYy37DdG \n",
      "\n",
      "3) Rescaning photo: 43fKfeqs2JwgnvhJC5ZQ\n",
      "duration: 0:00:27.626012, recognized: 6(6)\n",
      "\n",
      "4) Rescaning photo: 46ZcPTkOGmB5tfa7YA8e\n",
      "duration: 0:00:23.389939, recognized: 2(2)\n",
      "\n",
      "5) Rescaning photo: 4EukdH5XqrEyge0bKCsl\n",
      "duration: 0:00:33.688541, recognized: 6(6)\n",
      "\n"
     ]
    }
   ],
   "source": [
    "import requests\n",
    "url = 'https://us-central1-biblosphere-210106.cloudfunctions.net/rescan_photo'\n",
    "batch_size = 5\n",
    "\n",
    "res = db.collection('photos').stream()\n",
    "count = 1\n",
    "for doc in res:\n",
    "    if count > batch_size:\n",
    "        break\n",
    "\n",
    "    data = doc.to_dict()\n",
    "    if 'valid' in data and not data['valid']:\n",
    "        continue\n",
    "    if 'recognition_stats' in data:\n",
    "        continue\n",
    "\n",
    "    print(f'{count}) Rescaning photo: {doc.id}')\n",
    "\n",
    "    if not data.keys() >= {'photo', 'reporter', 'bookplace', 'id', 'location', 'url'}:\n",
    "        print('ERROR: photo/reporter/bookplace/id/location/url parameters missing.', doc.id, '\\n')\n",
    "        update = {'valid': False}\n",
    "        db.collection('photos').document(doc.id).update(update)\n",
    "        continue\n",
    "\n",
    "    old_recognized = data['recognized'] if 'recognized' in data else 0\n",
    "    res = requests.post(url, json={'photo_id': doc.id})\n",
    "    json = res.json()\n",
    "    print(f\"duration: {json['duration']}, recognized: {len(json['recognized_books'])}({old_recognized})\\n\")\n",
    "\n",
    "    count += 1"
   ],
   "metadata": {
    "collapsed": false,
    "pycharm": {
     "name": "#%%\n"
    }
   }
  },
  {
   "cell_type": "code",
   "execution_count": 4,
   "outputs": [
    {
     "name": "stdout",
     "output_type": "stream",
     "text": [
      "https://firebasestorage.googleapis.com:443/v0/b/biblosphere-210106.appspot.com/o/images%2FUyxjU2tRVB5TXY8pIDrnkLXoqVdo2:ucfsv1f%2F1627102566966.jpg?alt=media&token=feeed715-b9d6-4eac-a6a9-2acfa87c7531\n"
     ]
    }
   ],
   "source": [
    "from PIL import Image\n",
    "import requests\n",
    "from io import BytesIO\n",
    "\n",
    "photo_id = '3BG1udQExfDwZMBDK5zK'\n",
    "\n",
    "doc = db.collection('photos').document(photo_id).get()\n",
    "data = doc.to_dict()\n",
    "print(data['url'])\n",
    "response = requests.get(data['url'])\n",
    "#response.content\n",
    "img = Image.open(BytesIO(response.content))\n",
    "img.show()"
   ],
   "metadata": {
    "collapsed": false,
    "pycharm": {
     "name": "#%%\n"
    }
   }
  },
  {
   "cell_type": "code",
   "execution_count": 3,
   "outputs": [
    {
     "data": {
      "text/plain": "{'location': {'geopoint': <google.cloud.firestore_v1._helpers.GeoPoint at 0x270f2032be0>,\n  'geohash': 'd1u0x27h58s6'},\n 'reporter': 'Syiru36ehIglQqOk2wNpgpNqG982',\n 'recognition_stats': {'duration': 37499963,\n  'detectron_find_books': 35,\n  'known_books': 3059977,\n  'record_in_stats': True,\n  'date': '2021-9-23',\n  'algorithm': 'Detectron build 1.0 (2021-08-26)'},\n 'photo': 'images/PChIJ____b4bjoI8ReK36MRVWfzc/1611267196617.jpg',\n 'id': '0yUOgq7hjApGwORz0FDw',\n 'recognized': 13,\n 'count': 16,\n 'bookplace': 'PChIJ____b4bjoI8ReK36MRVWfzc',\n 'status': 'recognized',\n 'thumbnail': 'https://storage.googleapis.com/biblosphere-210106.appspot.com/thumbnails/PChIJ____b4bjoI8ReK36MRVWfzc/1611267196617.jpg',\n 'total': 39,\n 'url': 'https://firebasestorage.googleapis.com/v0/b/biblosphere-210106.appspot.com/o/images%2FPChIJ____b4bjoI8ReK36MRVWfzc%2F1611267196617.jpg?alt=media&token=481a9f84-32fe-4457-a1c2-119b759d5d89'}"
     },
     "execution_count": 3,
     "metadata": {},
     "output_type": "execute_result"
    }
   ],
   "source": [
    "photo_id = '0yUOgq7hjApGwORz0FDw'\n",
    "doc = db.collection('photos').document(photo_id).get()\n",
    "data = doc.to_dict()\n",
    "data"
   ],
   "metadata": {
    "collapsed": false,
    "pycharm": {
     "name": "#%%\n"
    }
   }
  },
  {
   "cell_type": "code",
   "execution_count": 75,
   "outputs": [
    {
     "data": {
      "text/plain": "update_time {\n  seconds: 1632503203\n  nanos: 298959000\n}"
     },
     "execution_count": 75,
     "metadata": {},
     "output_type": "execute_result"
    }
   ],
   "source": [
    "photo_id = '3s6Am4UxI1EAT8JzHplv'\n",
    "update = {'valid': False}\n",
    "db.collection('photos').document(photo_id).update(update)"
   ],
   "metadata": {
    "collapsed": false,
    "pycharm": {
     "name": "#%%\n"
    }
   }
  },
  {
   "cell_type": "code",
   "execution_count": null,
   "outputs": [],
   "source": [],
   "metadata": {
    "collapsed": false,
    "pycharm": {
     "name": "#%%\n"
    }
   }
  }
 ],
 "metadata": {
  "kernelspec": {
   "display_name": "Python 3",
   "language": "python",
   "name": "python3"
  },
  "language_info": {
   "codemirror_mode": {
    "name": "ipython",
    "version": 2
   },
   "file_extension": ".py",
   "mimetype": "text/x-python",
   "name": "python",
   "nbconvert_exporter": "python",
   "pygments_lexer": "ipython2",
   "version": "2.7.6"
  }
 },
 "nbformat": 4,
 "nbformat_minor": 0
}