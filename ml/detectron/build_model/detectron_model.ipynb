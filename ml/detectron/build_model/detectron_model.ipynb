{
 "cells": [
  {
   "cell_type": "markdown",
   "metadata": {
    "id": "lyQz4_FBXVC6"
   },
   "source": [
    "In this notebook we build pre-trained model to deploy in google cloud ai platform"
   ]
  },
  {
   "cell_type": "markdown",
   "metadata": {},
   "source": [
    "## 1.Build and test model"
   ]
  },
  {
   "cell_type": "code",
   "execution_count": null,
   "metadata": {
    "id": "tQDcdSTcUQ-t"
   },
   "outputs": [],
   "source": [
    "#import dependencies\n",
    "import torch, torchvision"
   ]
  },
  {
   "cell_type": "code",
   "execution_count": null,
   "metadata": {},
   "outputs": [],
   "source": [
    "print(f\"torch = {torch.__version__}; cuda is avaliable:{torch.cuda.is_available()}\")\n",
    "print('==========')\n",
    "!gcc --version\n",
    "print('==========')\n",
    "!nvcc --version"
   ]
  },
  {
   "cell_type": "code",
   "execution_count": null,
   "metadata": {},
   "outputs": [],
   "source": [
    "# import some common libraries\n",
    "import numpy as np\n",
    "import os, json, cv2, random"
   ]
  },
  {
   "cell_type": "code",
   "execution_count": null,
   "metadata": {},
   "outputs": [],
   "source": [
    "#install if needed\n",
    "#!pip install pip install Pillow"
   ]
  },
  {
   "cell_type": "code",
   "execution_count": null,
   "metadata": {},
   "outputs": [],
   "source": [
    "%matplotlib inline\n",
    "from matplotlib import pyplot as plt\n",
    "plt.rcParams[\"figure.figsize\"] = (50,100)\n",
    "from PIL import Image"
   ]
  },
  {
   "cell_type": "code",
   "execution_count": null,
   "metadata": {
    "id": "LzpNzJz9UwLi"
   },
   "outputs": [],
   "source": [
    "#!git clone https://github.com/facebookresearch/detectron2.git\n",
    "#!pip install -e detectron2"
   ]
  },
  {
   "cell_type": "code",
   "execution_count": null,
   "metadata": {
    "id": "3_lmq5xYzyhb"
   },
   "outputs": [],
   "source": [
    "# Some basic setup:\n",
    "# Setup detectron2 logger\n",
    "import detectron2\n",
    "from detectron2.utils.logger import setup_logger\n",
    "setup_logger()\n",
    "\n",
    "\n",
    "# import some common detectron2 utilities\n",
    "from detectron2 import model_zoo\n",
    "from detectron2.engine import DefaultPredictor\n",
    "from detectron2.config import get_cfg\n",
    "from detectron2.utils.visualizer import Visualizer\n",
    "from detectron2.data import MetadataCatalog, DatasetCatalog"
   ]
  },
  {
   "cell_type": "code",
   "execution_count": null,
   "metadata": {},
   "outputs": [],
   "source": [
    "detectron2.__version__"
   ]
  },
  {
   "cell_type": "code",
   "execution_count": null,
   "metadata": {
    "colab": {
     "base_uri": "https://localhost:8080/",
     "height": 1000
    },
    "id": "4JDr1XCPzzS8",
    "outputId": "321b7690-207d-44ca-e983-7e5e06b5d3e6"
   },
   "outputs": [],
   "source": [
    "im = Image.open(\"test_photo.jpg\")\n",
    "plt.imshow(im);"
   ]
  },
  {
   "cell_type": "code",
   "execution_count": null,
   "metadata": {
    "id": "JTWEqkRV4KZu"
   },
   "outputs": [],
   "source": [
    "cfg = get_cfg()\n",
    "cfg.merge_from_file(model_zoo.get_config_file(\"COCO-InstanceSegmentation/mask_rcnn_R_50_FPN_3x.yaml\"))\n",
    "cfg.MODEL.ROI_HEADS.NUM_CLASSES = 2 \n",
    "cfg.MODEL.DEVICE = 'cpu' #cuda or cpu\n",
    "cfg.MODEL.WEIGHTS = \"model_final.pth\"  # path to the model we just trained\n",
    "cfg.MODEL.ROI_HEADS.SCORE_THRESH_TEST = 0.6   # set a custom testing threshold\n",
    "\n",
    "predictor = DefaultPredictor(cfg)"
   ]
  },
  {
   "cell_type": "code",
   "execution_count": null,
   "metadata": {},
   "outputs": [],
   "source": [
    "#im = cv2.imread(\"test_photo.jpg\")\n",
    "im = cv2.imread(\"photos/6.jpg\")\n",
    "print(type(im))\n",
    "im.shape"
   ]
  },
  {
   "cell_type": "code",
   "execution_count": null,
   "metadata": {
    "id": "JWI0IK674WKv"
   },
   "outputs": [],
   "source": [
    "%%time\n",
    "#Делаем одиночное предсказание\n",
    "outputs = predictor(im)  \n"
   ]
  },
  {
   "cell_type": "code",
   "execution_count": null,
   "metadata": {},
   "outputs": [],
   "source": [
    "outputs"
   ]
  },
  {
   "cell_type": "code",
   "execution_count": null,
   "metadata": {
    "colab": {
     "base_uri": "https://localhost:8080/",
     "height": 1000
    },
    "id": "dvj-YTR5LQaO",
    "outputId": "4e6f3428-becc-4d8b-8cad-98c7e060364a"
   },
   "outputs": [],
   "source": [
    "%%time\n",
    "v = Visualizer(im[:, :, ::-1], scale=1.)\n",
    "out = v.draw_instance_predictions(outputs[\"instances\"].to(\"cpu\"))\n",
    "\n",
    "plt.imshow(out.get_image()[:, :, ::-1]);"
   ]
  },
  {
   "cell_type": "markdown",
   "metadata": {},
   "source": [
    "### Convert to poligons"
   ]
  },
  {
   "cell_type": "code",
   "execution_count": null,
   "metadata": {},
   "outputs": [],
   "source": [
    "import cv2"
   ]
  },
  {
   "cell_type": "code",
   "execution_count": null,
   "metadata": {},
   "outputs": [],
   "source": [
    "pred_masks = outputs['instances'].pred_masks.numpy()\n",
    "pred_masks = np.uint8(pred_masks)\n",
    "pred_masks.shape"
   ]
  },
  {
   "cell_type": "code",
   "execution_count": null,
   "metadata": {},
   "outputs": [],
   "source": [
    "def mask_to_rectangle(mask):\n",
    "    contours, hierarchy = cv2.findContours(mask, cv2.RETR_LIST, cv2.CHAIN_APPROX_NONE)\n",
    "    if len(contours) == 0:\n",
    "        return []\n",
    "    \n",
    "    contour1 = contours[0]\n",
    "    for i in range(1, len(contours)):\n",
    "        contour2 = np.array(contours[i])\n",
    "        contour1 = np.concatenate((contour1, contour2), axis=0)\n",
    "    contour1 = contour1.squeeze()\n",
    "    contour1 = cv2.convexHull(contour1)\n",
    "    \n",
    "    rect = cv2.boxPoints(cv2.minAreaRect(contour1))\n",
    "    return rect"
   ]
  },
  {
   "cell_type": "code",
   "execution_count": null,
   "metadata": {},
   "outputs": [],
   "source": [
    "%%time\n",
    "\n",
    "boxes = []\n",
    "for i in range(pred_masks.shape[0]):\n",
    "    box = mask_to_rectangle(pred_masks[i])\n",
    "    boxes.append(box)  \n",
    "len(boxes)   "
   ]
  },
  {
   "cell_type": "code",
   "execution_count": null,
   "metadata": {},
   "outputs": [],
   "source": [
    "boxes[0]"
   ]
  },
  {
   "cell_type": "code",
   "execution_count": null,
   "metadata": {},
   "outputs": [],
   "source": [
    "def plot_blocks_on_photo(photo_path, boxes, save_photo=False):\n",
    "    import numpy as np\n",
    "    import matplotlib.pyplot as plt\n",
    "    import matplotlib.patches as patches\n",
    "    import pylab\n",
    "    from PIL import Image\n",
    "\n",
    "    def build_polygon(points):\n",
    "        xy = np.array(points)\n",
    "        return patches.Polygon(xy, closed=True, linewidth=2, fill=True, alpha=0.5, color=np.random.rand(3, ))\n",
    "\n",
    "    pylab.rcParams['figure.figsize'] = [50.0, 100.0]\n",
    "    im = Image.open(photo_path)\n",
    "    \n",
    "    fig, ax = plt.subplots()\n",
    "    ax.imshow(im)\n",
    "    bx = fig.gca()\n",
    "\n",
    "    for box in boxes:\n",
    "        bx.add_patch(build_polygon(box))\n",
    "    \n",
    "    if save_photo:\n",
    "        fig.savefig('predicted_photo.jpg')\n",
    "    else:\n",
    "        plt.show()"
   ]
  },
  {
   "cell_type": "code",
   "execution_count": null,
   "metadata": {},
   "outputs": [],
   "source": [
    "plot_blocks_on_photo('photos/6.jpg',boxes)"
   ]
  },
  {
   "cell_type": "code",
   "execution_count": null,
   "metadata": {},
   "outputs": [],
   "source": []
  },
  {
   "cell_type": "markdown",
   "metadata": {},
   "source": [
    "## 2.Dump, load and test model"
   ]
  },
  {
   "cell_type": "code",
   "execution_count": null,
   "metadata": {},
   "outputs": [],
   "source": [
    "import joblib"
   ]
  },
  {
   "cell_type": "code",
   "execution_count": null,
   "metadata": {},
   "outputs": [],
   "source": [
    "joblib.dump(predictor, 'model/model.joblib')"
   ]
  },
  {
   "cell_type": "code",
   "execution_count": null,
   "metadata": {},
   "outputs": [],
   "source": [
    "BUCKET_NAME=\"detectron-model\"\n",
    "REGION=\"us-central1\"\n",
    "\n",
    "!echo $REGION"
   ]
  },
  {
   "cell_type": "code",
   "execution_count": null,
   "metadata": {},
   "outputs": [],
   "source": [
    "!gcloud config set project biblosphere-210106"
   ]
  },
  {
   "cell_type": "code",
   "execution_count": null,
   "metadata": {},
   "outputs": [],
   "source": [
    "!gsutil cp ./model.joblib gs://$BUCKET_NAME/model.joblib"
   ]
  },
  {
   "cell_type": "code",
   "execution_count": null,
   "metadata": {},
   "outputs": [],
   "source": [
    "predictor = joblib.load(\"./model.joblib\")"
   ]
  },
  {
   "cell_type": "code",
   "execution_count": null,
   "metadata": {},
   "outputs": [],
   "source": [
    "%time\n",
    "#Делаем одиночное предсказание\n",
    "file_name = 'test_photo.jpg'\n",
    "im = cv2.imread(file_name)\n",
    "outputs = predictor(im)  "
   ]
  },
  {
   "cell_type": "code",
   "execution_count": null,
   "metadata": {},
   "outputs": [],
   "source": [
    "%time\n",
    "v = Visualizer(im[:, :, ::-1], scale=1.)\n",
    "out = v.draw_instance_predictions(outputs[\"instances\"].to(\"cpu\"))\n",
    "\n",
    "plt.imshow(out.get_image()[:, :, ::-1]);"
   ]
  },
  {
   "cell_type": "code",
   "execution_count": null,
   "metadata": {},
   "outputs": [],
   "source": []
  }
 ],
 "metadata": {
  "accelerator": "GPU",
  "colab": {
   "collapsed_sections": [],
   "name": "Копия блокнота \"detectron_model.ipynb\"",
   "provenance": []
  },
  "environment": {
   "name": "pytorch-gpu.1-9.m75",
   "type": "gcloud",
   "uri": "gcr.io/deeplearning-platform-release/pytorch-gpu.1-9:m75"
  },
  "kernelspec": {
   "display_name": "Python 3",
   "language": "python",
   "name": "python3"
  },
  "language_info": {
   "codemirror_mode": {
    "name": "ipython",
    "version": 3
   },
   "file_extension": ".py",
   "mimetype": "text/x-python",
   "name": "python",
   "nbconvert_exporter": "python",
   "pygments_lexer": "ipython3",
   "version": "3.7.10"
  }
 },
 "nbformat": 4,
 "nbformat_minor": 4
}
