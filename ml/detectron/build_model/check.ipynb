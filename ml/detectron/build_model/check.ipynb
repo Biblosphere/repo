{
 "cells": [
  {
   "cell_type": "markdown",
   "id": "ed163034",
   "metadata": {},
   "source": [
    "#### Check service is ready"
   ]
  },
  {
   "cell_type": "code",
   "execution_count": null,
   "id": "6696a44e",
   "metadata": {},
   "outputs": [],
   "source": [
    "!curl http://localhost:5000"
   ]
  },
  {
   "cell_type": "code",
   "execution_count": null,
   "id": "8610b525",
   "metadata": {},
   "outputs": [],
   "source": [
    "!curl http://localhost:5000/hcheck"
   ]
  },
  {
   "cell_type": "code",
   "execution_count": null,
   "id": "f2e97530",
   "metadata": {
    "scrolled": true
   },
   "outputs": [],
   "source": [
    "!curl https://detectron-model-ihj6i2l2aq-uc.a.run.app/hcheck"
   ]
  },
  {
   "cell_type": "markdown",
   "id": "51bed928",
   "metadata": {},
   "source": [
    "#### Example 1. Get photo wit predicted segments"
   ]
  },
  {
   "cell_type": "code",
   "execution_count": null,
   "id": "888eece1",
   "metadata": {},
   "outputs": [],
   "source": [
    "%%time\n",
    "import requests, shutil\n",
    "from PIL import Image\n",
    "from matplotlib import pyplot as plt\n",
    "plt.rcParams[\"figure.figsize\"] = (50,100)\n",
    "\n",
    "#URL = 'http://localhost:5000/predict-masks-on-photo'\n",
    "URL = 'https://detectron-model-ihj6i2l2aq-uc.a.run.app/predict-masks-on-photo'\n",
    "TEST_PHOTO = 'photos/5.jpg'#'test_photo.jpg'\n",
    "PREDICTED_PHOTO = 'downloaded_photo.png'\n",
    "\n",
    "rs = requests.post(URL, files={'photo': open(TEST_PHOTO, 'rb')}, stream=True)\n",
    "print(rs.status_code, rs.reason)\n",
    "\n",
    "with open(PREDICTED_PHOTO,\"wb\") as receive:\n",
    "    shutil.copyfileobj(rs.raw,receive)\n",
    "del rs\n",
    "\n",
    "im = Image.open(PREDICTED_PHOTO)\n",
    "plt.imshow(im);"
   ]
  },
  {
   "cell_type": "markdown",
   "id": "b1ce012e",
   "metadata": {},
   "source": [
    "#### Example 2. Get predicted masks (numpy array)"
   ]
  },
  {
   "cell_type": "code",
   "execution_count": null,
   "id": "6c3aa26f",
   "metadata": {},
   "outputs": [],
   "source": [
    "%%time\n",
    "import requests, shutil, joblib\n",
    "import numpy as np\n",
    "\n",
    "#URL = 'http://localhost:5000/predict-masks'\n",
    "URL = 'https://detectron-model-ihj6i2l2aq-uc.a.run.app/predict-masks'\n",
    "TEST_PHOTO = 'photos/5.jpg'#'test_photo.jpg'\n",
    "PREDICTIONS_COMPRESSED_FILE = 'preds.download'\n",
    "\n",
    "rs = requests.post(URL, files={'photo': open(TEST_PHOTO, 'rb')}, stream=True)\n",
    "print(rs.status_code, rs.reason)\n",
    "\n",
    "with open(PREDICTIONS_COMPRESSED_FILE,\"wb\") as receive:\n",
    "    shutil.copyfileobj(rs.raw,receive)\n",
    "del rs\n",
    "\n",
    "pred_masks = joblib.load(PREDICTIONS_COMPRESSED_FILE)\n",
    "print(type(pred_masks), pred_masks.shape)\n",
    "pred_masks"
   ]
  },
  {
   "cell_type": "markdown",
   "id": "6fe2fda7",
   "metadata": {},
   "source": [
    "#### Example 3. Get photo with predicted rectangles"
   ]
  },
  {
   "cell_type": "code",
   "execution_count": null,
   "id": "5265e303",
   "metadata": {},
   "outputs": [],
   "source": [
    "%%time\n",
    "import requests, shutil\n",
    "from PIL import Image\n",
    "from matplotlib import pyplot as plt\n",
    "plt.rcParams[\"figure.figsize\"] = (50,100)\n",
    "\n",
    "#URL = 'http://localhost:5000/predict-rectangles-on-photo'\n",
    "URL = 'https://detectron-model-ihj6i2l2aq-uc.a.run.app/predict-rectangles-on-photo'\n",
    "TEST_PHOTO = 'photos/1.jpg'#'test_photo.jpg'\n",
    "PREDICTED_PHOTO = 'downloaded_photo.png'\n",
    "\n",
    "rs = requests.post(URL, files={'photo': open(TEST_PHOTO, 'rb')}, stream=True)\n",
    "print(rs.status_code, rs.reason)\n",
    "\n",
    "with open(PREDICTED_PHOTO,\"wb\") as receive:\n",
    "    shutil.copyfileobj(rs.raw,receive)\n",
    "del rs\n",
    "\n",
    "im = Image.open(PREDICTED_PHOTO)\n",
    "plt.imshow(im);"
   ]
  },
  {
   "cell_type": "markdown",
   "id": "01cb40c2",
   "metadata": {},
   "source": [
    "#### Example 4. Get predicted rectangles (list)"
   ]
  },
  {
   "cell_type": "code",
   "execution_count": null,
   "id": "ce0f39fd",
   "metadata": {},
   "outputs": [],
   "source": [
    "%%time\n",
    "import requests, shutil, joblib\n",
    "import numpy as np\n",
    "\n",
    "#URL = 'http://localhost:5000/predict-rectangles'\n",
    "URL = 'https://detectron-model-ihj6i2l2aq-uc.a.run.app/predict-rectangles'\n",
    "TEST_PHOTO = 'photos/5.jpg'#'test_photo.jpg'\n",
    "\n",
    "rs = requests.post(URL, files={'photo': open(TEST_PHOTO, 'rb')})\n",
    "print(rs.status_code, rs.reason)\n",
    "boxes = rs.json()['boxes']\n",
    "print(len(boxes))\n",
    "boxes[0]"
   ]
  },
  {
   "cell_type": "code",
   "execution_count": null,
   "id": "abe3602b",
   "metadata": {},
   "outputs": [],
   "source": []
  }
 ],
 "metadata": {
  "environment": {
   "name": "pytorch-gpu.1-9.m75",
   "type": "gcloud",
   "uri": "gcr.io/deeplearning-platform-release/pytorch-gpu.1-9:m75"
  },
  "kernelspec": {
   "display_name": "Python 3",
   "language": "python",
   "name": "python3"
  },
  "language_info": {
   "codemirror_mode": {
    "name": "ipython",
    "version": 3
   },
   "file_extension": ".py",
   "mimetype": "text/x-python",
   "name": "python",
   "nbconvert_exporter": "python",
   "pygments_lexer": "ipython3",
   "version": "3.7.10"
  }
 },
 "nbformat": 4,
 "nbformat_minor": 5
}
